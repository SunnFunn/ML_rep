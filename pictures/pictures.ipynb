{
 "cells": [
  {
   "cell_type": "code",
   "execution_count": 1,
   "id": "4b4713f5",
   "metadata": {},
   "outputs": [],
   "source": [
    "from pdf2image import convert_from_path, convert_from_bytes\n",
    "from PIL import Image, ImageChops\n",
    "import PIL.ImageOps\n",
    "\n",
    "import numpy as np"
   ]
  },
  {
   "cell_type": "code",
   "execution_count": 2,
   "id": "acd32d51",
   "metadata": {},
   "outputs": [],
   "source": [
    "im_2 = Image.open('C:/Users/Алексей Третьяков/Desktop/pictures/pic1-2.jpg')\n"
   ]
  },
  {
   "cell_type": "code",
   "execution_count": 3,
   "id": "346f9e47",
   "metadata": {},
   "outputs": [],
   "source": [
    "im_1 = Image.open('C:/Users/Алексей Третьяков/Desktop/pictures/pic2-2.jpg')\n"
   ]
  },
  {
   "cell_type": "code",
   "execution_count": 4,
   "id": "295b3ecd",
   "metadata": {},
   "outputs": [],
   "source": [
    "result_delta=ImageChops.difference(im_1, im_2)\n",
    "#pic_delta = np.array(result_delta)\n",
    "\n",
    "inverted_image = PIL.ImageOps.invert(result_delta)\n",
    "#inverted_image.show()\n",
    "\n",
    "inverted_image.save(\"C:/Users/Алексей Третьяков/Desktop/pictures/pic_delta.jpg\")"
   ]
  },
  {
   "cell_type": "code",
   "execution_count": 5,
   "id": "0a9690e6",
   "metadata": {},
   "outputs": [],
   "source": [
    "inv_im = Image.open('C:/Users/Алексей Третьяков/Desktop/pictures/pic_delta.jpg')"
   ]
  },
  {
   "cell_type": "code",
   "execution_count": 6,
   "id": "a483dc0b",
   "metadata": {},
   "outputs": [],
   "source": [
    "inv_image = np.array(inv_im)"
   ]
  },
  {
   "cell_type": "code",
   "execution_count": 7,
   "id": "d0354923",
   "metadata": {},
   "outputs": [],
   "source": [
    "inv_image[:,:,0][inv_image[:,:,0]<200] = 255\n",
    "inv_image[:,:,1][inv_image[:,:,1]<200] = 0\n",
    "inv_image[:,:,2][inv_image[:,:,2]<200] = 0"
   ]
  },
  {
   "cell_type": "code",
   "execution_count": 8,
   "id": "c075c34a",
   "metadata": {},
   "outputs": [],
   "source": [
    "inv_image = Image.fromarray(inv_image, 'RGB')\n",
    "inv_image.save(\"C:/Users/Алексей Третьяков/Desktop/pictures/pic_delta_red.jpg\")"
   ]
  },
  {
   "cell_type": "code",
   "execution_count": 9,
   "id": "47317f8f",
   "metadata": {},
   "outputs": [],
   "source": [
    "background = Image.open(\"C:/Users/Алексей Третьяков/Desktop/pictures/pic2-2.jpg\")\n",
    "overlay = Image.open(\"C:/Users/Алексей Третьяков/Desktop/pictures/pic_delta_red.jpg\")\n",
    "\n",
    "result_img = Image.blend(background, overlay, 0.8)\n",
    "result_img.save(\"C:/Users/Алексей Третьяков/Desktop/pictures/result.jpg\")"
   ]
  }
 ],
 "metadata": {
  "kernelspec": {
   "display_name": "Python 3 (ipykernel)",
   "language": "python",
   "name": "python3"
  },
  "language_info": {
   "codemirror_mode": {
    "name": "ipython",
    "version": 3
   },
   "file_extension": ".py",
   "mimetype": "text/x-python",
   "name": "python",
   "nbconvert_exporter": "python",
   "pygments_lexer": "ipython3",
   "version": "3.9.1"
  }
 },
 "nbformat": 4,
 "nbformat_minor": 5
}
