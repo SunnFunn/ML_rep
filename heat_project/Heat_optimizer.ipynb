{
 "cells": [
  {
   "cell_type": "markdown",
   "id": "6cad032a",
   "metadata": {},
   "source": [
    "### Импортируем необходимые нам библиотеки"
   ]
  },
  {
   "cell_type": "code",
   "execution_count": 39,
   "id": "91522ecc",
   "metadata": {},
   "outputs": [],
   "source": [
    "import numpy as np\n",
    "\n",
    "# загрузим специальную библиотеку, позволяющую решать оптимизационные задачи линейного программирования\n",
    "from scipy.optimize import linprog"
   ]
  },
  {
   "cell_type": "markdown",
   "id": "f4497426",
   "metadata": {},
   "source": [
    "Для целей поиска оптимального графика подачи тепла используем зависимость температуры внутри помещения от времени остывании и нагревании здания:\n",
    "\n",
    "$$\n",
    "\\Large{t}_в = {t}_н + \\frac{Q}{Vx} + \\frac{({t^{'}}_в - {t}_н - \\frac{Q}{Vx})}{e^{(\\frac{z}{\\gamma})}}\n",
    "$$\n",
    "\n",
    "- $\\Large{t}_в$ - температура, которая установится через z часов после нарушения теплового режима;\n",
    "- $\\Large{t^{'}}_в$ - температура, которая была в помещении на момент нарушения теплового режима;\n",
    "- $\\Large{t}_н$ - температура наружного воздуха;\n",
    "- Q - количество тепла, подаваемого в помещение, Дж/час;\n",
    "- V - объем здания по наружному обмеру, $м^{3}$;\n",
    "- x -  отопительная характеристика здания, $\\Large\\frac{Дж}{м^{3}ч^{o}C}$;\n",
    "- $\\Large\\gamma$ - коэффициент аккумуляции, характеризующий аккумулирующую способность наружных ограждений, ч."
   ]
  },
  {
   "cell_type": "markdown",
   "id": "bf45ee7c",
   "metadata": {},
   "source": [
    "Задача состоит в том, чтобы, зная температурный профиль наружного воздуха на несколько периодов времени вперед, рассчитать график подачи тепла в эти периоды с минимумом суммы поданного тепла за эти периоды.\n",
    "\n",
    "Математически это означает, что целевая функция оптимизационной задачи является следующей суммой:\n",
    "\n",
    "$$\n",
    "\\Large{Q} = {Q}_0 + {Q}_1 + ..... + {Q}_n  --> min\n",
    "$$\n",
    "где:\n",
    "- n - количество прогнозных периодов.\n",
    "\n",
    "или в матричном виде:\n",
    "\n",
    "$$\n",
    "\\Large с^{T}\\hat{Q}  --> min\n",
    "$$\n",
    "где:\n",
    "- $\\Large c$ - единичный вектор размерности n;\n",
    "- $\\Large\\hat{Q}$ - вектор значений подачи тепла в разные периоды времени размерности n."
   ]
  },
  {
   "cell_type": "markdown",
   "id": "d3b8bc26",
   "metadata": {},
   "source": [
    "Исходя из формулы, учитывающей инерцию здания в остывании и нагревании, к целевой функции необходимо добавить следующие ограничения на $\\Large {Q}_i$:\n",
    "\n",
    "$$\n",
    "\\Large t_{н i-1} + \\frac{Q_{i-1}}{Vx} + \\frac{(t_{i-1} - t_{н i-1} - \\frac{Q_{i-1}}{Vx})}{e^{(\\frac{z}{\\gamma})}} = t_{i} >= 16\n",
    "$$\n",
    "\n",
    "или упростив:\n",
    "\n",
    "$$\n",
    "\\Large t_{i-1}\\alpha + t_{н i-1}(1-\\alpha) + Q_{i-1}\\beta >= 16\n",
    "$$\n",
    "$$\n",
    "\\Large t_{i-1}\\alpha + Q_{i-1}\\beta >= 16 - t_{н i-1}(1-\\alpha)\n",
    "$$\n",
    "\n",
    "где:\n",
    "- $\\Large \\alpha = \\frac{1}{e^{(\\frac{z}{\\gamma})}}$\n",
    "- $\\Large \\beta = \\frac{1 - \\alpha}{qV}$"
   ]
  },
  {
   "cell_type": "markdown",
   "id": "6042725a",
   "metadata": {},
   "source": [
    "В ограничениях на Qi-1 все еще присутствует значение температуры в предыдущий период ti-1.</br>\n",
    "Однако это значение можно также выразить через значение ti-2 и Qi-2.</br>\n",
    "Таким образом, можно рекурсивно дойти до известной нам температуры внутри помещения в нулевой период t0.</br>\n",
    "После рекурсии до температуры t0 ограничения на Qi будут выглядеть следующим образом:\n",
    "\n",
    "$$\n",
    "\\Large Q_{0}*\\beta*\\alpha^{i-1} + Q_{1}*\\beta*\\alpha^{i-2} + ... + Q_{i}*\\beta*\\alpha^{0} >= 16 - t_{0}*\\alpha{i} - t_{н0}*(1-\\alpha)*alpha^{i-1} - ... - t_{нi}*(1-\\alpha)*alpha^{0}\n",
    "$$\n",
    "\n",
    "Или в матричном виде ограничения записываются как:\n",
    "\n",
    "$$\n",
    "\\Large A*\\hat{Q} >= \\hat{b}\n",
    "$$\n",
    "где:\n",
    "- $\\Large\\hat{Q}$ - вектор значений подачи тепла в прогнозные периоды времени;\n",
    "- $\\Large{A}$ - матрица ограничений вида $\\begin{bmatrix} \\beta & 0 & 0 & ... & 0 \\\\ \\beta*\\alpha & \\beta & 0 & ... & 0 \\\\\\ ... & .. & .. & ... & .. \\\\\\\\ \\beta*\\alpha^{n-1} & .. & .. & ... & \\beta \\end{bmatrix}$\n",
    "- $\\Large\\hat{b}$ - вектор вида $\\begin{bmatrix} t_{0}*\\alpha + t_{н0}*(1-\\alpha) \\\\ t_{0}*\\alpha^{2} + t_{н0}*(1-\\alpha)*\\alpha + t_{н1}*(1-\\alpha) \\\\\\ ..................................... \\\\\\\\ t_{0}*\\alpha^{n} + t_{н0}*(1-\\alpha)*\\alpha^{n-1} + ... t_{нn}*(1-\\alpha)*alpha^{0} \\end{bmatrix}$"
   ]
  },
  {
   "cell_type": "markdown",
   "id": "229403f5",
   "metadata": {},
   "source": [
    "Мы определили целевую функцию и ограничения на ее переменные в виде матрицы и вектора. Теперь мы можем решить задачу линейного программирования (оптимизация такого рода выбрана по причине линейности как целевой функции, так и ограничений)"
   ]
  },
  {
   "cell_type": "markdown",
   "id": "4ec47fd9",
   "metadata": {},
   "source": [
    "### Зададим характеристики здания, начальную температуру внутри помещения и ограничение по ней"
   ]
  },
  {
   "cell_type": "code",
   "execution_count": 40,
   "id": "5c3125c6",
   "metadata": {},
   "outputs": [],
   "source": [
    "# характеристика здания\n",
    "qV = 0.0739\n",
    "\n",
    "# количество часов, необходимое зданию для остывания в e раз (2,71 раз)\n",
    "gamma = 100\n",
    "\n",
    "alpha = np.round(np.exp(-1/gamma),4)\n",
    "betta = np.round((1 - alpha)/qV,4)\n",
    "\n",
    "# начальная температура внутри помещения\n",
    "t0 = 17.6\n",
    "# нижняя граница внутренней температуры в здании\n",
    "tmin = 16.5"
   ]
  },
  {
   "cell_type": "code",
   "execution_count": 41,
   "id": "3c1f800d",
   "metadata": {},
   "outputs": [
    {
     "data": {
      "text/plain": [
       "(0.99, 0.1353)"
      ]
     },
     "execution_count": 41,
     "metadata": {},
     "output_type": "execute_result"
    }
   ],
   "source": [
    "alpha, betta"
   ]
  },
  {
   "cell_type": "markdown",
   "id": "d080bb71",
   "metadata": {},
   "source": [
    "### Зададим прогноз температуры наружного воздуха:"
   ]
  },
  {
   "cell_type": "code",
   "execution_count": 42,
   "id": "55c5e027",
   "metadata": {},
   "outputs": [
    {
     "name": "stdout",
     "output_type": "stream",
     "text": [
      "tвнеш = -7 град.\n",
      "tвнеш = -1 град.\n",
      "tвнеш = 0 град.\n",
      "tвнеш = -3 град.\n",
      "tвнеш = 0 град.\n",
      "tвнеш = -1 град.\n",
      "tвнеш = -8 град.\n",
      "tвнеш = -2 град.\n",
      "tвнеш = 2 град.\n",
      "tвнеш = -3 град.\n"
     ]
    }
   ],
   "source": [
    "outside_temperature = [-7,-1,0,-3, 0,-1,-8,-2,2,-3]\n",
    "for i in range(10):\n",
    "    print(f'tвнеш = {outside_temperature[i]} град.')"
   ]
  },
  {
   "cell_type": "markdown",
   "id": "b2071b7a",
   "metadata": {},
   "source": [
    "### Нахождение оптимального профиля подачи тепла"
   ]
  },
  {
   "cell_type": "markdown",
   "id": "5f315b44",
   "metadata": {},
   "source": [
    "Для решения оптимизационной задачи, нам, используя характеристики здания, нач температуру и ограничение по температуре, необходимо найти вектор C, матрицу ограничений А и вектор ограничений b."
   ]
  },
  {
   "cell_type": "code",
   "execution_count": 43,
   "id": "78f8e94d",
   "metadata": {},
   "outputs": [
    {
     "data": {
      "text/plain": [
       "array([1, 1, 1, 1, 1, 1, 1, 1, 1, 1])"
      ]
     },
     "execution_count": 43,
     "metadata": {},
     "output_type": "execute_result"
    }
   ],
   "source": [
    "# вектор с - это просто единичный вектор\n",
    "c = np.ones(10, dtype=int)\n",
    "c"
   ]
  },
  {
   "cell_type": "code",
   "execution_count": 44,
   "id": "d1916e25",
   "metadata": {},
   "outputs": [],
   "source": [
    "# создадим матрицу ограничеинй А\n",
    "A =np.diag(np.full(10,-betta))\n",
    "\n",
    "for i in range(1,10):\n",
    "    A += np.diag(np.full(10-i,-betta*(alpha**i)), -i)"
   ]
  },
  {
   "cell_type": "code",
   "execution_count": 45,
   "id": "f769590e",
   "metadata": {},
   "outputs": [
    {
     "data": {
      "text/plain": [
       "array([[-0.1353    ,  0.        ,  0.        ,  0.        ,  0.        ,\n",
       "         0.        ,  0.        ,  0.        ,  0.        ,  0.        ],\n",
       "       [-0.133947  , -0.1353    ,  0.        ,  0.        ,  0.        ,\n",
       "         0.        ,  0.        ,  0.        ,  0.        ,  0.        ],\n",
       "       [-0.13260753, -0.133947  , -0.1353    ,  0.        ,  0.        ,\n",
       "         0.        ,  0.        ,  0.        ,  0.        ,  0.        ],\n",
       "       [-0.13128145, -0.13260753, -0.133947  , -0.1353    ,  0.        ,\n",
       "         0.        ,  0.        ,  0.        ,  0.        ,  0.        ],\n",
       "       [-0.12996864, -0.13128145, -0.13260753, -0.133947  , -0.1353    ,\n",
       "         0.        ,  0.        ,  0.        ,  0.        ,  0.        ],\n",
       "       [-0.12866895, -0.12996864, -0.13128145, -0.13260753, -0.133947  ,\n",
       "        -0.1353    ,  0.        ,  0.        ,  0.        ,  0.        ],\n",
       "       [-0.12738226, -0.12866895, -0.12996864, -0.13128145, -0.13260753,\n",
       "        -0.133947  , -0.1353    ,  0.        ,  0.        ,  0.        ],\n",
       "       [-0.12610844, -0.12738226, -0.12866895, -0.12996864, -0.13128145,\n",
       "        -0.13260753, -0.133947  , -0.1353    ,  0.        ,  0.        ],\n",
       "       [-0.12484736, -0.12610844, -0.12738226, -0.12866895, -0.12996864,\n",
       "        -0.13128145, -0.13260753, -0.133947  , -0.1353    ,  0.        ],\n",
       "       [-0.12359888, -0.12484736, -0.12610844, -0.12738226, -0.12866895,\n",
       "        -0.12996864, -0.13128145, -0.13260753, -0.133947  , -0.1353    ]])"
      ]
     },
     "execution_count": 45,
     "metadata": {},
     "output_type": "execute_result"
    }
   ],
   "source": [
    "# матрица A получилась в необходимом нам виде\n",
    "A"
   ]
  },
  {
   "cell_type": "code",
   "execution_count": 46,
   "id": "1fc78ab8",
   "metadata": {},
   "outputs": [],
   "source": [
    "#создадим вектор ограничений b, сделаем его из двух частей, которые сложим вместе, так как это упростит создание циклов\n",
    "b_1 = np.zeros(10)\n",
    "b_1[0] = outside_temperature[0]*(1 - alpha)\n",
    "for i in range(1,10):\n",
    "    b_1[i] = b_1[i-1] + outside_temperature[i]*(1 - alpha)*alpha**i"
   ]
  },
  {
   "cell_type": "code",
   "execution_count": 47,
   "id": "91065d51",
   "metadata": {},
   "outputs": [],
   "source": [
    "#вторая часть вектора b\n",
    "b_2 = np.zeros(10)\n",
    "for i in range(10):\n",
    "    b_2[i] = -tmin + t0*alpha**(i+1)"
   ]
  },
  {
   "cell_type": "code",
   "execution_count": 48,
   "id": "59037e5c",
   "metadata": {},
   "outputs": [
    {
     "data": {
      "text/plain": [
       "array([ 0.85,  0.67,  0.5 ,  0.3 ,  0.13, -0.05, -0.29, -0.47, -0.62,\n",
       "       -0.8 ])"
      ]
     },
     "execution_count": 48,
     "metadata": {},
     "output_type": "execute_result"
    }
   ],
   "source": [
    "# складываем обе части вместе\n",
    "b = np.round(b_1 + b_2, 2)\n",
    "b"
   ]
  },
  {
   "cell_type": "code",
   "execution_count": 49,
   "id": "08afb4f5",
   "metadata": {},
   "outputs": [],
   "source": [
    "# проводим поиск оптимального решения\n",
    "result = linprog(c, A_ub=A, b_ub=b)"
   ]
  },
  {
   "cell_type": "code",
   "execution_count": 50,
   "id": "05cc24f6",
   "metadata": {},
   "outputs": [
    {
     "name": "stdout",
     "output_type": "stream",
     "text": [
      "Итого подача тепла за весь прогнозный период: 6.02 Гкал\n"
     ]
    }
   ],
   "source": [
    "Qsum = np.round(result.fun,2)\n",
    "print(f'Итого подача тепла за весь прогнозный период: {Qsum} Гкал')"
   ]
  },
  {
   "cell_type": "code",
   "execution_count": 51,
   "id": "41a4c20f",
   "metadata": {},
   "outputs": [
    {
     "data": {
      "text/plain": [
       "array([0.  , 0.  , 0.  , 0.  , 0.  , 0.37, 1.78, 1.35, 1.14, 1.38])"
      ]
     },
     "execution_count": 51,
     "metadata": {},
     "output_type": "execute_result"
    }
   ],
   "source": [
    "#посмотрим на вектор Q\n",
    "Q = np.round(np.array(result.x),2)\n",
    "Q"
   ]
  },
  {
   "cell_type": "code",
   "execution_count": 52,
   "id": "a3606526",
   "metadata": {},
   "outputs": [],
   "source": [
    "# расчитаем при таком профиле подачи тепла, как ведет себя температура внутри помещения\n",
    "internal_temp = []\n",
    "internal_temp.append(t0)\n",
    "\n",
    "for i in range(1,10):\n",
    "    ti = internal_temp[i-1]*alpha + Q[i-1]*betta + outside_temperature[i-1]*(1-alpha)\n",
    "    internal_temp.append(np.round(ti,1))"
   ]
  },
  {
   "cell_type": "code",
   "execution_count": 53,
   "id": "cb41282c",
   "metadata": {},
   "outputs": [],
   "source": [
    "# также рассчитаем температуру теплоносителя в подающем трубопроводе после смешения\n",
    "heat_temp = []\n",
    "\n",
    "for i in range(10):\n",
    "    ti = tmin + 72*(Q[i]/(qV*(tmin+40)))**0.8 + 15*(Q[i]/(qV*(tmin+40)))\n",
    "    heat_temp.append(np.round(ti))"
   ]
  },
  {
   "cell_type": "code",
   "execution_count": 54,
   "id": "c0e66103",
   "metadata": {},
   "outputs": [
    {
     "name": "stdout",
     "output_type": "stream",
     "text": [
      "Q0 = 0.0 Гкал    tвнеш = -7    tвнутр = 17.6    tпод = 16.0\n",
      "Q1 = 0.0 Гкал    tвнеш = -1    tвнутр = 17.4    tпод = 16.0\n",
      "Q2 = 0.0 Гкал    tвнеш = 0    tвнутр = 17.2    tпод = 16.0\n",
      "Q3 = 0.0 Гкал    tвнеш = -3    tвнутр = 17.0    tпод = 16.0\n",
      "Q4 = 0.0 Гкал    tвнеш = 0    tвнутр = 16.8    tпод = 16.0\n",
      "Q5 = 0.37 Гкал    tвнеш = -1    tвнутр = 16.6    tпод = 28.0\n",
      "Q6 = 1.78 Гкал    tвнеш = -8    tвнутр = 16.5    tпод = 59.0\n",
      "Q7 = 1.35 Гкал    tвнеш = -2    tвнутр = 16.5    tпод = 51.0\n",
      "Q8 = 1.14 Гкал    tвнеш = 2    tвнутр = 16.5    tпод = 46.0\n",
      "Q9 = 1.38 Гкал    tвнеш = -3    tвнутр = 16.5    tпод = 51.0\n"
     ]
    }
   ],
   "source": [
    "# выведем все результаты расчета\n",
    "for i in range(10):\n",
    "    print(f'Q{i} = {Q[i]} Гкал    tвнеш = {outside_temperature[i]}    tвнутр = {internal_temp[i]}    tпод = {heat_temp[i]}')"
   ]
  }
 ],
 "metadata": {
  "kernelspec": {
   "display_name": "Python 3 (ipykernel)",
   "language": "python",
   "name": "python3"
  },
  "language_info": {
   "codemirror_mode": {
    "name": "ipython",
    "version": 3
   },
   "file_extension": ".py",
   "mimetype": "text/x-python",
   "name": "python",
   "nbconvert_exporter": "python",
   "pygments_lexer": "ipython3",
   "version": "3.9.1"
  }
 },
 "nbformat": 4,
 "nbformat_minor": 5
}
