{
 "cells": [
  {
   "cell_type": "markdown",
   "id": "6cad032a",
   "metadata": {},
   "source": [
    "### Импортируем необходимые нам библиотеки"
   ]
  },
  {
   "cell_type": "code",
   "execution_count": 1,
   "id": "91522ecc",
   "metadata": {},
   "outputs": [],
   "source": [
    "import numpy as np\n",
    "import pandas as pd\n",
    "from datetime import timedelta\n",
    "from datetime import datetime\n",
    "\n",
    "# загрузим специальную библиотеку, позволяющую решать оптимизационные задачи линейного программирования\n",
    "from scipy.optimize import linprog\n",
    "\n",
    "#библиотеки, необходимые для формирования запросов сайту и получение ответов\n",
    "#и поиска в полученной с сайта информации необхоимых для проекта данных\n",
    "from bs4 import BeautifulSoup\n",
    "import requests as req\n",
    "import lxml.html as html\n",
    "import urllib3"
   ]
  },
  {
   "cell_type": "markdown",
   "id": "ff730771",
   "metadata": {},
   "source": [
    "### Скачиваем с rp5.ru текущий прогноз внешней температуры на 24 часа вперед"
   ]
  },
  {
   "cell_type": "code",
   "execution_count": 2,
   "id": "de0ad8c5",
   "metadata": {},
   "outputs": [],
   "source": [
    "#формируем header для включения его в запросы, так как сайты могут блокировать запросы без него\n",
    "header = {'user-agent': 'Edg/95.0.1020.53'}\n",
    "urllib3.disable_warnings()"
   ]
  },
  {
   "cell_type": "code",
   "execution_count": 3,
   "id": "73f5b562",
   "metadata": {},
   "outputs": [],
   "source": [
    "# сайт метеостанции на ВДНХ г. Москва\n",
    "url = 'https://rp5.ru/%D0%9F%D0%BE%D0%B3%D0%BE%D0%B4%D0%B0_%D0%B2_%D0%95%D0%BA%D0%B0%D1%82%D0%B5%D1%80%D0%B8%D0%BD%D0%B1%D1%83%D1%80%D0%B3%D0%B5'\n",
    "\n",
    "response = req.get(url, headers=header, timeout=50, verify=False)\n",
    "page = BeautifulSoup(response.text,'html.parser')"
   ]
  },
  {
   "cell_type": "code",
   "execution_count": 4,
   "id": "4bdd6ec5",
   "metadata": {},
   "outputs": [],
   "source": [
    "temperatures = page.find('table', {'id': ['forecastTable_1_3']}).find_all('td', {'class': ['n underlineRow toplineRow red',\n",
    "                                              'n2 underlineRow toplineRow red',\n",
    "                                              'd underlineRow toplineRow red',\n",
    "                                              'd2 underlineRow toplineRow red',\n",
    "                                              'n underlineRow toplineRow blue',\n",
    "                                              'n2 underlineRow toplineRow blue',\n",
    "                                              'd underlineRow toplineRow blue',\n",
    "                                              'd2 underlineRow toplineRow blue']})"
   ]
  },
  {
   "cell_type": "code",
   "execution_count": 5,
   "id": "607accfa",
   "metadata": {},
   "outputs": [],
   "source": [
    "t = []\n",
    "\n",
    "for temp in temperatures:\n",
    "    t.append(temp.find('div', class_='t_0').text)"
   ]
  },
  {
   "cell_type": "code",
   "execution_count": 7,
   "id": "0bcf039e",
   "metadata": {},
   "outputs": [
    {
     "name": "stdout",
     "output_type": "stream",
     "text": [
      "tвнеш0 = 13 град.\n",
      "tвнеш1 = 13 град.\n",
      "tвнеш2 = 13 град.\n",
      "tвнеш3 = 12 град.\n",
      "tвнеш4 = 11 град.\n",
      "tвнеш5 = 10 град.\n",
      "tвнеш6 = 8 град.\n",
      "tвнеш7 = 7 град.\n",
      "tвнеш8 = 7 град.\n",
      "tвнеш9 = 5 град.\n",
      "tвнеш10 = 4 град.\n",
      "tвнеш11 = 4 град.\n",
      "tвнеш12 = 2 град.\n",
      "tвнеш13 = 1 град.\n",
      "tвнеш14 = -1 град.\n",
      "tвнеш15 = -2 град.\n",
      "tвнеш16 = -3 град.\n",
      "tвнеш17 = -4 град.\n",
      "tвнеш18 = -5 град.\n",
      "tвнеш19 = -5 град.\n",
      "tвнеш20 = -4 град.\n",
      "tвнеш21 = -2 град.\n",
      "tвнеш22 = 0 град.\n",
      "tвнеш23 = 1 град.\n"
     ]
    }
   ],
   "source": [
    "outside_temperature = []\n",
    "\n",
    "for i in range(24):\n",
    "    outside_temperature.append(int(t[i]))\n",
    "    print(f'tвнеш{i} = {outside_temperature[i]} град.')"
   ]
  },
  {
   "cell_type": "markdown",
   "id": "7f3f39e2",
   "metadata": {},
   "source": [
    "### Температурный график"
   ]
  },
  {
   "cell_type": "code",
   "execution_count": 8,
   "id": "c8bda033",
   "metadata": {},
   "outputs": [],
   "source": [
    "temps_out = np.zeros(34)\n",
    "temps_out[0] = 8\n",
    "\n",
    "for i in range(33):\n",
    "    temps_out[i+1] = temps_out[i] - 1"
   ]
  },
  {
   "cell_type": "code",
   "execution_count": 9,
   "id": "81068901",
   "metadata": {},
   "outputs": [
    {
     "data": {
      "text/plain": [
       "array([  8.,   7.,   6.,   5.,   4.,   3.,   2.,   1.,   0.,  -1.,  -2.,\n",
       "        -3.,  -4.,  -5.,  -6.,  -7.,  -8.,  -9., -10., -11., -12., -13.,\n",
       "       -14., -15., -16., -17., -18., -19., -20., -21., -22., -23., -24.,\n",
       "       -25.])"
      ]
     },
     "execution_count": 9,
     "metadata": {},
     "output_type": "execute_result"
    }
   ],
   "source": [
    "temps_out"
   ]
  },
  {
   "cell_type": "code",
   "execution_count": 10,
   "id": "8125f50e",
   "metadata": {},
   "outputs": [],
   "source": [
    "temps_heat = np.array([75, 75, 75, 75, 75, 75, 75, 77, 81, 84, 86, 89, 92, 95, 97, 100, 103, 106, 109, 111, 114, 117, 120, 122, 125, 128, 128, 128, 128, 128, 128, 128, 128, 128])\n",
    "Qmax_heat = np.array([2.98, 2.98, 2.98, 2.98, 2.98, 2.98, 2.98, 3.1, 3.35, 3.53, 3.65, 3.84, 4.03, 4.21, 4.33, 4.52, 4.72, 4.91, 5.1, 5.23, 5.43, 5.62, 5.82, 5.92, 6.15, 6.34, 6.34, 6.34, 6.34, 6.34, 6.34, 6.34, 6.34, 6.34])"
   ]
  },
  {
   "cell_type": "markdown",
   "id": "6f9bf837",
   "metadata": {},
   "source": [
    "### Описание постановки оптимизационной задачи"
   ]
  },
  {
   "cell_type": "markdown",
   "id": "f4497426",
   "metadata": {},
   "source": [
    "Для целей поиска оптимального графика подачи тепла используем зависимость температуры внутри помещения от времени остывании и нагревании здания:\n",
    "\n",
    "$$\n",
    "\\Large{t}_в = {t}_н + \\frac{Q}{Vx} + \\frac{({t^{'}}_в - {t}_н - \\frac{Q}{Vx})}{e^{(\\frac{z}{\\gamma})}}\n",
    "$$\n",
    "\n",
    "- $\\Large{t}_в$ - температура, которая установится через z часов после нарушения теплового режима;\n",
    "- $\\Large{t^{'}}_в$ - температура, которая была в помещении на момент нарушения теплового режима;\n",
    "- $\\Large{t}_н$ - температура наружного воздуха;\n",
    "- Q - количество тепла, подаваемого в помещение, Дж/час;\n",
    "- V - объем здания по наружному обмеру, $м^{3}$;\n",
    "- x -  отопительная характеристика здания, $\\Large\\frac{Дж}{м^{3}ч^{o}C}$;\n",
    "- $\\Large\\gamma$ - коэффициент аккумуляции, характеризующий аккумулирующую способность наружных ограждений, ч."
   ]
  },
  {
   "cell_type": "markdown",
   "id": "bf45ee7c",
   "metadata": {},
   "source": [
    "Задача состоит в том, чтобы, зная температурный профиль наружного воздуха на несколько периодов времени вперед, рассчитать график подачи тепла в эти периоды с минимумом суммы поданного тепла за эти периоды.\n",
    "\n",
    "Математически это означает, что целевая функция оптимизационной задачи является следующей суммой:\n",
    "\n",
    "$$\n",
    "\\Large{Q} = {Q}_0 + {Q}_1 + ..... + {Q}_n  --> min\n",
    "$$\n",
    "где:\n",
    "- n - количество прогнозных периодов.\n",
    "\n",
    "или в матричном виде:\n",
    "\n",
    "$$\n",
    "\\Large с^{T}\\hat{Q}  --> min\n",
    "$$\n",
    "где:\n",
    "- $\\Large c$ - единичный вектор размерности n;\n",
    "- $\\Large\\hat{Q}$ - вектор значений подачи тепла в разные периоды времени размерности n."
   ]
  },
  {
   "cell_type": "markdown",
   "id": "d3b8bc26",
   "metadata": {},
   "source": [
    "Исходя из формулы, учитывающей инерцию здания в остывании и нагревании, к целевой функции необходимо добавить следующие ограничения на $\\Large {Q}_i$:\n",
    "\n",
    "$$\n",
    "\\Large t_{н i-1} + \\frac{Q_{i-1}}{Vx} + \\frac{(t_{i-1} - t_{н i-1} - \\frac{Q_{i-1}}{Vx})}{e^{(\\frac{z}{\\gamma})}} = t_{i} >= 16\n",
    "$$\n",
    "\n",
    "или упростив:\n",
    "\n",
    "$$\n",
    "\\Large t_{i-1}\\alpha + t_{н i-1}(1-\\alpha) + Q_{i-1}\\beta >= 16\n",
    "$$\n",
    "$$\n",
    "\\Large t_{i-1}\\alpha + Q_{i-1}\\beta >= 16 - t_{н i-1}(1-\\alpha)\n",
    "$$\n",
    "\n",
    "где:\n",
    "- $\\Large \\alpha = \\frac{1}{e^{(\\frac{z}{\\gamma})}}$\n",
    "- $\\Large \\beta = \\frac{1 - \\alpha}{qV}$"
   ]
  },
  {
   "cell_type": "markdown",
   "id": "6042725a",
   "metadata": {},
   "source": [
    "В ограничениях на Qi-1 все еще присутствует значение температуры в предыдущий период ti-1.</br>\n",
    "Однако это значение можно также выразить через значение ti-2 и Qi-2.</br>\n",
    "Таким образом, можно рекурсивно дойти до известной нам температуры внутри помещения в нулевой период t0.</br>\n",
    "После рекурсии до температуры t0 ограничения на Qi будут выглядеть следующим образом:\n",
    "\n",
    "$$\n",
    "\\Large Q_{0}*\\beta*\\alpha^{i-1} + Q_{1}*\\beta*\\alpha^{i-2} + ... + Q_{i}*\\beta*\\alpha^{0} >= 16 - t_{0}*\\alpha{i} - t_{н0}*(1-\\alpha)*alpha^{i-1} - ... - t_{нi}*(1-\\alpha)*alpha^{0}\n",
    "$$\n",
    "\n",
    "Или в матричном виде ограничения записываются как:\n",
    "\n",
    "$$\n",
    "\\Large A*\\hat{Q} >= \\hat{b}\n",
    "$$\n",
    "где:\n",
    "- $\\Large\\hat{Q}$ - вектор значений подачи тепла в прогнозные периоды времени;\n",
    "- $\\Large{A}$ - матрица ограничений вида $\\begin{bmatrix} \\beta & 0 & 0 & ... & 0 \\\\ \\beta*\\alpha & \\beta & 0 & ... & 0 \\\\\\ ... & .. & .. & ... & .. \\\\\\\\ \\beta*\\alpha^{n-1} & .. & .. & ... & \\beta \\end{bmatrix}$\n",
    "- $\\Large\\hat{b}$ - вектор вида $\\begin{bmatrix} t_{min} - t_{0}*\\alpha - t_{н0}*(1-\\alpha) \\\\ t_{min} - t_{0}*\\alpha^{2} - t_{н0}*(1-\\alpha)*\\alpha - t_{н1}*(1-\\alpha) \\\\\\ ..................................... \\\\\\\\ t_{min} - t_{0}*\\alpha^{n} - t_{н0}*(1-\\alpha)*\\alpha^{n-1} - ... t_{нn}*(1-\\alpha)*alpha^{0} \\end{bmatrix}$"
   ]
  },
  {
   "cell_type": "markdown",
   "id": "229403f5",
   "metadata": {},
   "source": [
    "Мы определили целевую функцию и ограничения на ее переменные в виде матрицы и вектора. Теперь мы можем решить задачу линейного программирования (оптимизация такого рода выбрана по причине линейности как целевой функции, так и ограничений)"
   ]
  },
  {
   "cell_type": "markdown",
   "id": "4ec47fd9",
   "metadata": {},
   "source": [
    "### Зададим характеристики здания, начальную температуру внутри помещения и ограничение по ней"
   ]
  },
  {
   "cell_type": "code",
   "execution_count": 11,
   "id": "5c3125c6",
   "metadata": {},
   "outputs": [],
   "source": [
    "# характеристика здания\n",
    "qV = 0.1133\n",
    "\n",
    "# количество часов, необходимое зданию для остывания в e раз (2,71 раз)\n",
    "gamma = 40\n",
    "\n",
    "alpha = np.round(np.exp(-1/gamma),4)\n",
    "betta = np.round((1 - alpha)/qV,4)\n",
    "\n",
    "# начальная температура внутри помещения\n",
    "t0 = 17.0\n",
    "# нижняя граница внутренней температуры в здании\n",
    "tmin1 = 16.5\n",
    "tmin2 = 14.5\n",
    "\n",
    "# ограничения на минимальный и максимальный уровень подачи тепла\n",
    "Qmin = 0.5"
   ]
  },
  {
   "cell_type": "code",
   "execution_count": 12,
   "id": "274c4607",
   "metadata": {},
   "outputs": [],
   "source": [
    "Qmax = np.zeros(24, dtype=float)\n",
    "for i in range(24):\n",
    "    if outside_temperature[i] <= 8:\n",
    "        position = np.where(temps_out == outside_temperature[i])[0].tolist()[0]\n",
    "        Qmax[i] = Qmax_heat[position]\n",
    "    else:\n",
    "        Qmax[i] = Qmax_heat[0] \n",
    "\n",
    "Qmax = Qmax.tolist()"
   ]
  },
  {
   "cell_type": "code",
   "execution_count": 13,
   "id": "43582cab",
   "metadata": {},
   "outputs": [
    {
     "data": {
      "text/plain": [
       "[2.98,\n",
       " 2.98,\n",
       " 2.98,\n",
       " 2.98,\n",
       " 2.98,\n",
       " 2.98,\n",
       " 2.98,\n",
       " 2.98,\n",
       " 2.98,\n",
       " 2.98,\n",
       " 2.98,\n",
       " 2.98,\n",
       " 2.98,\n",
       " 3.1,\n",
       " 3.53,\n",
       " 3.65,\n",
       " 3.84,\n",
       " 4.03,\n",
       " 4.21,\n",
       " 4.21,\n",
       " 4.03,\n",
       " 3.65,\n",
       " 3.35,\n",
       " 3.1]"
      ]
     },
     "execution_count": 13,
     "metadata": {},
     "output_type": "execute_result"
    }
   ],
   "source": [
    "Qmax"
   ]
  },
  {
   "cell_type": "code",
   "execution_count": 14,
   "id": "3c1f800d",
   "metadata": {},
   "outputs": [
    {
     "data": {
      "text/plain": [
       "(0.9753, 0.218)"
      ]
     },
     "execution_count": 14,
     "metadata": {},
     "output_type": "execute_result"
    }
   ],
   "source": [
    "alpha, betta"
   ]
  },
  {
   "cell_type": "markdown",
   "id": "7d242bfb",
   "metadata": {},
   "source": [
    "### Создадим ряд прогнозных часов"
   ]
  },
  {
   "cell_type": "code",
   "execution_count": 15,
   "id": "ac24a97c",
   "metadata": {},
   "outputs": [],
   "source": [
    "base = datetime.today()\n",
    "hours = [(base + timedelta(hours=x)).hour for x in range(24)]"
   ]
  },
  {
   "cell_type": "markdown",
   "id": "b2071b7a",
   "metadata": {},
   "source": [
    "### Нахождение оптимального профиля подачи тепла"
   ]
  },
  {
   "cell_type": "markdown",
   "id": "5f315b44",
   "metadata": {},
   "source": [
    "Для решения оптимизационной задачи, нам, используя характеристики здания, нач температуру и ограничение по температуре, необходимо найти вектор C, матрицу ограничений А и вектор ограничений b."
   ]
  },
  {
   "cell_type": "code",
   "execution_count": 16,
   "id": "78f8e94d",
   "metadata": {},
   "outputs": [
    {
     "data": {
      "text/plain": [
       "array([1, 1, 1, 1, 1, 1, 1, 1, 1, 1, 1, 1, 1, 1, 1, 1, 1, 1, 1, 1, 1, 1,\n",
       "       1, 1])"
      ]
     },
     "execution_count": 16,
     "metadata": {},
     "output_type": "execute_result"
    }
   ],
   "source": [
    "# вектор с - это просто единичный вектор\n",
    "c = np.ones(24, dtype=int)\n",
    "c"
   ]
  },
  {
   "cell_type": "code",
   "execution_count": 17,
   "id": "d1916e25",
   "metadata": {},
   "outputs": [],
   "source": [
    "A =np.diag(np.full(24,-betta))\n",
    "for i in range(1,24):\n",
    "    A += np.diag(np.full(24-i,-betta*(alpha**i)), -i)"
   ]
  },
  {
   "cell_type": "code",
   "execution_count": 18,
   "id": "f769590e",
   "metadata": {},
   "outputs": [
    {
     "data": {
      "text/plain": [
       "(24, 24)"
      ]
     },
     "execution_count": 18,
     "metadata": {},
     "output_type": "execute_result"
    }
   ],
   "source": [
    "# матрица A получилась в необходимом нам виде\n",
    "A.shape"
   ]
  },
  {
   "cell_type": "code",
   "execution_count": 19,
   "id": "1fc78ab8",
   "metadata": {},
   "outputs": [],
   "source": [
    "#создадим вектор ограничений b, сделаем его из двух частей, которые сложим вместе, так как это упростит создание циклов\n",
    "b_1 = np.zeros(24)\n",
    "b_1[0] = outside_temperature[0]*(1 - alpha)\n",
    "for i in range(1,24):\n",
    "    b_1[i] = b_1[i-1] + outside_temperature[i]*(1 - alpha)*alpha**i"
   ]
  },
  {
   "cell_type": "code",
   "execution_count": 20,
   "id": "91065d51",
   "metadata": {},
   "outputs": [],
   "source": [
    "#вторая часть вектора b\n",
    "b_2 = np.zeros(24)\n",
    "for i in range(24):\n",
    "    if 19 <= hours[i] <= 24 or 0 <= hours[i] <= 6:\n",
    "        b_2[i] = -tmin2 + t0*alpha**(i+1)\n",
    "    else:\n",
    "        b_2[i] = -tmin1 + t0*alpha**(i+1)"
   ]
  },
  {
   "cell_type": "code",
   "execution_count": 21,
   "id": "59037e5c",
   "metadata": {},
   "outputs": [
    {
     "data": {
      "text/plain": [
       "array([ 0.4 ,  0.3 ,  0.21,  0.1 , -0.04, -0.19, -0.38, -0.59, -0.79,\n",
       "        0.97,  0.72,  0.48,  0.2 , -0.08, -0.4 , -0.72, -1.05, -1.39,\n",
       "       -1.73, -2.07, -2.39, -4.66, -4.91, -5.13])"
      ]
     },
     "execution_count": 21,
     "metadata": {},
     "output_type": "execute_result"
    }
   ],
   "source": [
    "# складываем обе части вместе\n",
    "b = np.round(b_1 + b_2, 2)\n",
    "b"
   ]
  },
  {
   "cell_type": "code",
   "execution_count": 22,
   "id": "cdffb9a5",
   "metadata": {
    "scrolled": true
   },
   "outputs": [
    {
     "data": {
      "text/plain": [
       "24"
      ]
     },
     "execution_count": 22,
     "metadata": {},
     "output_type": "execute_result"
    }
   ],
   "source": [
    "bounds = []\n",
    "\n",
    "for i in range(24):\n",
    "    bounds.append((Qmin, Qmax[i]))\n",
    "\n",
    "len(bounds)"
   ]
  },
  {
   "cell_type": "code",
   "execution_count": 23,
   "id": "08afb4f5",
   "metadata": {},
   "outputs": [],
   "source": [
    "# проводим поиск оптимального решения\n",
    "result = linprog(c, A_ub=A, b_ub=b, bounds=bounds)"
   ]
  },
  {
   "cell_type": "code",
   "execution_count": 24,
   "id": "05cc24f6",
   "metadata": {},
   "outputs": [
    {
     "name": "stdout",
     "output_type": "stream",
     "text": [
      "Итого подача тепла за весь прогнозный период: 27.53 Гкал\n"
     ]
    }
   ],
   "source": [
    "Qsum = np.round(result.fun,2)\n",
    "print(f'Итого подача тепла за весь прогнозный период: {Qsum} Гкал')"
   ]
  },
  {
   "cell_type": "code",
   "execution_count": 25,
   "id": "41a4c20f",
   "metadata": {},
   "outputs": [
    {
     "data": {
      "text/plain": [
       "array([0.5 , 0.5 , 0.5 , 0.5 , 0.5 , 0.5 , 0.5 , 0.5 , 0.5 , 0.5 , 0.5 ,\n",
       "       0.5 , 0.5 , 0.5 , 0.5 , 0.5 , 0.5 , 0.5 , 3.4 , 4.21, 4.03, 3.65,\n",
       "       1.67, 1.57])"
      ]
     },
     "execution_count": 25,
     "metadata": {},
     "output_type": "execute_result"
    }
   ],
   "source": [
    "#посмотрим на вектор Q\n",
    "Q = np.round(np.array(result.x),2)\n",
    "Q"
   ]
  },
  {
   "cell_type": "code",
   "execution_count": 26,
   "id": "a3606526",
   "metadata": {},
   "outputs": [],
   "source": [
    "# расчитаем при таком профиле подачи тепла, как ведет себя температура внутри помещения\n",
    "internal_temp = []\n",
    "internal_temp.append(t0)\n",
    "\n",
    "for i in range(1,24):\n",
    "    ti = internal_temp[i-1]*alpha + Q[i-1]*betta + outside_temperature[i-1]*(1-alpha)\n",
    "    internal_temp.append(np.round(ti,1))"
   ]
  },
  {
   "cell_type": "code",
   "execution_count": 27,
   "id": "cb41282c",
   "metadata": {},
   "outputs": [],
   "source": [
    "# также рассчитаем температуру теплоносителя в подающем трубопроводе после смешения\n",
    "heat_temp = []\n",
    "\n",
    "for i in range(24):\n",
    "    if 19 <= hours[i] <= 24 or 0 <= hours[i] <= 6:\n",
    "        ti = tmin2 + ((115+80)/2 - tmin2)*(Q[i]/(qV*(tmin2+40)))**0.8 + ((115-80)/2)*(Q[i]/(qV*(tmin2+40)))\n",
    "    else:\n",
    "        ti = tmin1 + ((115+80)/2 - tmin1)*(Q[i]/(qV*(tmin1+40)))**0.8 + ((115-80)/2)*(Q[i]/(qV*(tmin1+40)))\n",
    "    heat_temp.append(np.round(ti))"
   ]
  },
  {
   "cell_type": "markdown",
   "id": "2914eb68",
   "metadata": {},
   "source": [
    "### Создадим отчетный файл с результатами расчетов"
   ]
  },
  {
   "cell_type": "code",
   "execution_count": 28,
   "id": "db0c0509",
   "metadata": {},
   "outputs": [],
   "source": [
    "# создадим ряд прогнозных дат\n",
    "dates = np.asarray([(base + timedelta(hours=x)).strftime('%Y-%m-%d %H') for x in range(24)]).reshape(24,1)"
   ]
  },
  {
   "cell_type": "code",
   "execution_count": 29,
   "id": "0f27efcb",
   "metadata": {},
   "outputs": [],
   "source": [
    "# преобразуем список температур внешнего воздуха в массив\n",
    "out_tem = np.asarray(outside_temperature).reshape(24,1)"
   ]
  },
  {
   "cell_type": "code",
   "execution_count": 30,
   "id": "7615135d",
   "metadata": {},
   "outputs": [],
   "source": [
    "# преобразуем Q_Гкал, tподающ, tвнутр в массив\n",
    "Q_Gkal = np.asarray(Q).reshape(24,1)\n",
    "tpod = np.asarray(heat_temp).reshape(24,1)\n",
    "tvn = np.asarray(internal_temp).reshape(24,1)\n",
    "\n",
    "data_array = np.hstack((dates, out_tem, Q_Gkal, tpod, tvn))"
   ]
  },
  {
   "cell_type": "code",
   "execution_count": 31,
   "id": "1a82a275",
   "metadata": {},
   "outputs": [
    {
     "data": {
      "text/html": [
       "<div>\n",
       "<style scoped>\n",
       "    .dataframe tbody tr th:only-of-type {\n",
       "        vertical-align: middle;\n",
       "    }\n",
       "\n",
       "    .dataframe tbody tr th {\n",
       "        vertical-align: top;\n",
       "    }\n",
       "\n",
       "    .dataframe thead th {\n",
       "        text-align: right;\n",
       "    }\n",
       "</style>\n",
       "<table border=\"1\" class=\"dataframe\">\n",
       "  <thead>\n",
       "    <tr style=\"text-align: right;\">\n",
       "      <th></th>\n",
       "      <th>дата</th>\n",
       "      <th>tвнеш</th>\n",
       "      <th>Q_Гкал</th>\n",
       "      <th>tподающ</th>\n",
       "      <th>tвнутр</th>\n",
       "    </tr>\n",
       "  </thead>\n",
       "  <tbody>\n",
       "    <tr>\n",
       "      <th>0</th>\n",
       "      <td>2023-04-06 10</td>\n",
       "      <td>13</td>\n",
       "      <td>0.5</td>\n",
       "      <td>28.0</td>\n",
       "      <td>17.0</td>\n",
       "    </tr>\n",
       "    <tr>\n",
       "      <th>1</th>\n",
       "      <td>2023-04-06 11</td>\n",
       "      <td>13</td>\n",
       "      <td>0.5</td>\n",
       "      <td>28.0</td>\n",
       "      <td>17.0</td>\n",
       "    </tr>\n",
       "    <tr>\n",
       "      <th>2</th>\n",
       "      <td>2023-04-06 12</td>\n",
       "      <td>13</td>\n",
       "      <td>0.5</td>\n",
       "      <td>28.0</td>\n",
       "      <td>17.0</td>\n",
       "    </tr>\n",
       "    <tr>\n",
       "      <th>3</th>\n",
       "      <td>2023-04-06 13</td>\n",
       "      <td>12</td>\n",
       "      <td>0.5</td>\n",
       "      <td>28.0</td>\n",
       "      <td>17.0</td>\n",
       "    </tr>\n",
       "    <tr>\n",
       "      <th>4</th>\n",
       "      <td>2023-04-06 14</td>\n",
       "      <td>11</td>\n",
       "      <td>0.5</td>\n",
       "      <td>28.0</td>\n",
       "      <td>17.0</td>\n",
       "    </tr>\n",
       "    <tr>\n",
       "      <th>5</th>\n",
       "      <td>2023-04-06 15</td>\n",
       "      <td>10</td>\n",
       "      <td>0.5</td>\n",
       "      <td>28.0</td>\n",
       "      <td>17.0</td>\n",
       "    </tr>\n",
       "    <tr>\n",
       "      <th>6</th>\n",
       "      <td>2023-04-06 16</td>\n",
       "      <td>8</td>\n",
       "      <td>0.5</td>\n",
       "      <td>28.0</td>\n",
       "      <td>16.9</td>\n",
       "    </tr>\n",
       "    <tr>\n",
       "      <th>7</th>\n",
       "      <td>2023-04-06 17</td>\n",
       "      <td>7</td>\n",
       "      <td>0.5</td>\n",
       "      <td>28.0</td>\n",
       "      <td>16.8</td>\n",
       "    </tr>\n",
       "    <tr>\n",
       "      <th>8</th>\n",
       "      <td>2023-04-06 18</td>\n",
       "      <td>7</td>\n",
       "      <td>0.5</td>\n",
       "      <td>28.0</td>\n",
       "      <td>16.7</td>\n",
       "    </tr>\n",
       "    <tr>\n",
       "      <th>9</th>\n",
       "      <td>2023-04-06 19</td>\n",
       "      <td>5</td>\n",
       "      <td>0.5</td>\n",
       "      <td>27.0</td>\n",
       "      <td>16.6</td>\n",
       "    </tr>\n",
       "    <tr>\n",
       "      <th>10</th>\n",
       "      <td>2023-04-06 20</td>\n",
       "      <td>4</td>\n",
       "      <td>0.5</td>\n",
       "      <td>27.0</td>\n",
       "      <td>16.4</td>\n",
       "    </tr>\n",
       "    <tr>\n",
       "      <th>11</th>\n",
       "      <td>2023-04-06 21</td>\n",
       "      <td>4</td>\n",
       "      <td>0.5</td>\n",
       "      <td>27.0</td>\n",
       "      <td>16.2</td>\n",
       "    </tr>\n",
       "    <tr>\n",
       "      <th>12</th>\n",
       "      <td>2023-04-06 22</td>\n",
       "      <td>2</td>\n",
       "      <td>0.5</td>\n",
       "      <td>27.0</td>\n",
       "      <td>16.0</td>\n",
       "    </tr>\n",
       "    <tr>\n",
       "      <th>13</th>\n",
       "      <td>2023-04-06 23</td>\n",
       "      <td>1</td>\n",
       "      <td>0.5</td>\n",
       "      <td>27.0</td>\n",
       "      <td>15.8</td>\n",
       "    </tr>\n",
       "    <tr>\n",
       "      <th>14</th>\n",
       "      <td>2023-04-07 00</td>\n",
       "      <td>-1</td>\n",
       "      <td>0.5</td>\n",
       "      <td>27.0</td>\n",
       "      <td>15.5</td>\n",
       "    </tr>\n",
       "    <tr>\n",
       "      <th>15</th>\n",
       "      <td>2023-04-07 01</td>\n",
       "      <td>-2</td>\n",
       "      <td>0.5</td>\n",
       "      <td>27.0</td>\n",
       "      <td>15.2</td>\n",
       "    </tr>\n",
       "    <tr>\n",
       "      <th>16</th>\n",
       "      <td>2023-04-07 02</td>\n",
       "      <td>-3</td>\n",
       "      <td>0.5</td>\n",
       "      <td>27.0</td>\n",
       "      <td>14.9</td>\n",
       "    </tr>\n",
       "    <tr>\n",
       "      <th>17</th>\n",
       "      <td>2023-04-07 03</td>\n",
       "      <td>-4</td>\n",
       "      <td>0.5</td>\n",
       "      <td>27.0</td>\n",
       "      <td>14.6</td>\n",
       "    </tr>\n",
       "    <tr>\n",
       "      <th>18</th>\n",
       "      <td>2023-04-07 04</td>\n",
       "      <td>-5</td>\n",
       "      <td>3.4</td>\n",
       "      <td>76.0</td>\n",
       "      <td>14.2</td>\n",
       "    </tr>\n",
       "    <tr>\n",
       "      <th>19</th>\n",
       "      <td>2023-04-07 05</td>\n",
       "      <td>-5</td>\n",
       "      <td>4.21</td>\n",
       "      <td>88.0</td>\n",
       "      <td>14.5</td>\n",
       "    </tr>\n",
       "    <tr>\n",
       "      <th>20</th>\n",
       "      <td>2023-04-07 06</td>\n",
       "      <td>-4</td>\n",
       "      <td>4.03</td>\n",
       "      <td>85.0</td>\n",
       "      <td>14.9</td>\n",
       "    </tr>\n",
       "    <tr>\n",
       "      <th>21</th>\n",
       "      <td>2023-04-07 07</td>\n",
       "      <td>-2</td>\n",
       "      <td>3.65</td>\n",
       "      <td>78.0</td>\n",
       "      <td>15.3</td>\n",
       "    </tr>\n",
       "    <tr>\n",
       "      <th>22</th>\n",
       "      <td>2023-04-07 08</td>\n",
       "      <td>0</td>\n",
       "      <td>1.67</td>\n",
       "      <td>49.0</td>\n",
       "      <td>15.7</td>\n",
       "    </tr>\n",
       "    <tr>\n",
       "      <th>23</th>\n",
       "      <td>2023-04-07 09</td>\n",
       "      <td>1</td>\n",
       "      <td>1.57</td>\n",
       "      <td>47.0</td>\n",
       "      <td>15.7</td>\n",
       "    </tr>\n",
       "  </tbody>\n",
       "</table>\n",
       "</div>"
      ],
      "text/plain": [
       "             дата tвнеш Q_Гкал tподающ tвнутр\n",
       "0   2023-04-06 10    13    0.5    28.0   17.0\n",
       "1   2023-04-06 11    13    0.5    28.0   17.0\n",
       "2   2023-04-06 12    13    0.5    28.0   17.0\n",
       "3   2023-04-06 13    12    0.5    28.0   17.0\n",
       "4   2023-04-06 14    11    0.5    28.0   17.0\n",
       "5   2023-04-06 15    10    0.5    28.0   17.0\n",
       "6   2023-04-06 16     8    0.5    28.0   16.9\n",
       "7   2023-04-06 17     7    0.5    28.0   16.8\n",
       "8   2023-04-06 18     7    0.5    28.0   16.7\n",
       "9   2023-04-06 19     5    0.5    27.0   16.6\n",
       "10  2023-04-06 20     4    0.5    27.0   16.4\n",
       "11  2023-04-06 21     4    0.5    27.0   16.2\n",
       "12  2023-04-06 22     2    0.5    27.0   16.0\n",
       "13  2023-04-06 23     1    0.5    27.0   15.8\n",
       "14  2023-04-07 00    -1    0.5    27.0   15.5\n",
       "15  2023-04-07 01    -2    0.5    27.0   15.2\n",
       "16  2023-04-07 02    -3    0.5    27.0   14.9\n",
       "17  2023-04-07 03    -4    0.5    27.0   14.6\n",
       "18  2023-04-07 04    -5    3.4    76.0   14.2\n",
       "19  2023-04-07 05    -5   4.21    88.0   14.5\n",
       "20  2023-04-07 06    -4   4.03    85.0   14.9\n",
       "21  2023-04-07 07    -2   3.65    78.0   15.3\n",
       "22  2023-04-07 08     0   1.67    49.0   15.7\n",
       "23  2023-04-07 09     1   1.57    47.0   15.7"
      ]
     },
     "execution_count": 31,
     "metadata": {},
     "output_type": "execute_result"
    }
   ],
   "source": [
    "# создадим перечень колонок в выходном файле csv\n",
    "cols = ['дата', 'tвнеш', 'Q_Гкал', 'tподающ', 'tвнутр']\n",
    "\n",
    "data = pd.DataFrame(data_array, columns=cols)\n",
    "data"
   ]
  },
  {
   "cell_type": "code",
   "execution_count": 40,
   "id": "1ae5da74",
   "metadata": {},
   "outputs": [
    {
     "ename": "FileNotFoundError",
     "evalue": "[Errno 2] No such file or directory: 'C:/Users/Алексей Третьяков/Desktop/ML_rep/heat_project/output/data_2022_12_31_18_42.csv'",
     "output_type": "error",
     "traceback": [
      "\u001b[1;31m---------------------------------------------------------------------------\u001b[0m",
      "\u001b[1;31mFileNotFoundError\u001b[0m                         Traceback (most recent call last)",
      "\u001b[1;32mC:\\Users\\0707~1\\AppData\\Local\\Temp/ipykernel_7012/1572877916.py\u001b[0m in \u001b[0;36m<module>\u001b[1;34m\u001b[0m\n\u001b[1;32m----> 1\u001b[1;33m \u001b[0mdata\u001b[0m \u001b[1;33m=\u001b[0m \u001b[0mpd\u001b[0m\u001b[1;33m.\u001b[0m\u001b[0mread_csv\u001b[0m\u001b[1;33m(\u001b[0m\u001b[1;34m'C:/Users/Алексей Третьяков/Desktop/ML_rep/heat_project/output/data_2022_12_31_18_42.csv'\u001b[0m\u001b[1;33m,\u001b[0m \u001b[0mencoding\u001b[0m\u001b[1;33m=\u001b[0m\u001b[1;34m'cp1251'\u001b[0m\u001b[1;33m,\u001b[0m \u001b[0msep\u001b[0m\u001b[1;33m=\u001b[0m\u001b[1;34m','\u001b[0m\u001b[1;33m)\u001b[0m\u001b[1;33m\u001b[0m\u001b[1;33m\u001b[0m\u001b[0m\n\u001b[0m\u001b[0;32m      2\u001b[0m \u001b[0mdata\u001b[0m\u001b[1;33m\u001b[0m\u001b[1;33m\u001b[0m\u001b[0m\n",
      "\u001b[1;32mc:\\users\\алексей третьяков\\appdata\\local\\programs\\python\\python39\\lib\\site-packages\\pandas\\io\\parsers.py\u001b[0m in \u001b[0;36mread_csv\u001b[1;34m(filepath_or_buffer, sep, delimiter, header, names, index_col, usecols, squeeze, prefix, mangle_dupe_cols, dtype, engine, converters, true_values, false_values, skipinitialspace, skiprows, skipfooter, nrows, na_values, keep_default_na, na_filter, verbose, skip_blank_lines, parse_dates, infer_datetime_format, keep_date_col, date_parser, dayfirst, cache_dates, iterator, chunksize, compression, thousands, decimal, lineterminator, quotechar, quoting, doublequote, escapechar, comment, encoding, dialect, error_bad_lines, warn_bad_lines, delim_whitespace, low_memory, memory_map, float_precision, storage_options)\u001b[0m\n\u001b[0;32m    608\u001b[0m     \u001b[0mkwds\u001b[0m\u001b[1;33m.\u001b[0m\u001b[0mupdate\u001b[0m\u001b[1;33m(\u001b[0m\u001b[0mkwds_defaults\u001b[0m\u001b[1;33m)\u001b[0m\u001b[1;33m\u001b[0m\u001b[1;33m\u001b[0m\u001b[0m\n\u001b[0;32m    609\u001b[0m \u001b[1;33m\u001b[0m\u001b[0m\n\u001b[1;32m--> 610\u001b[1;33m     \u001b[1;32mreturn\u001b[0m \u001b[0m_read\u001b[0m\u001b[1;33m(\u001b[0m\u001b[0mfilepath_or_buffer\u001b[0m\u001b[1;33m,\u001b[0m \u001b[0mkwds\u001b[0m\u001b[1;33m)\u001b[0m\u001b[1;33m\u001b[0m\u001b[1;33m\u001b[0m\u001b[0m\n\u001b[0m\u001b[0;32m    611\u001b[0m \u001b[1;33m\u001b[0m\u001b[0m\n\u001b[0;32m    612\u001b[0m \u001b[1;33m\u001b[0m\u001b[0m\n",
      "\u001b[1;32mc:\\users\\алексей третьяков\\appdata\\local\\programs\\python\\python39\\lib\\site-packages\\pandas\\io\\parsers.py\u001b[0m in \u001b[0;36m_read\u001b[1;34m(filepath_or_buffer, kwds)\u001b[0m\n\u001b[0;32m    460\u001b[0m \u001b[1;33m\u001b[0m\u001b[0m\n\u001b[0;32m    461\u001b[0m     \u001b[1;31m# Create the parser.\u001b[0m\u001b[1;33m\u001b[0m\u001b[1;33m\u001b[0m\u001b[1;33m\u001b[0m\u001b[0m\n\u001b[1;32m--> 462\u001b[1;33m     \u001b[0mparser\u001b[0m \u001b[1;33m=\u001b[0m \u001b[0mTextFileReader\u001b[0m\u001b[1;33m(\u001b[0m\u001b[0mfilepath_or_buffer\u001b[0m\u001b[1;33m,\u001b[0m \u001b[1;33m**\u001b[0m\u001b[0mkwds\u001b[0m\u001b[1;33m)\u001b[0m\u001b[1;33m\u001b[0m\u001b[1;33m\u001b[0m\u001b[0m\n\u001b[0m\u001b[0;32m    463\u001b[0m \u001b[1;33m\u001b[0m\u001b[0m\n\u001b[0;32m    464\u001b[0m     \u001b[1;32mif\u001b[0m \u001b[0mchunksize\u001b[0m \u001b[1;32mor\u001b[0m \u001b[0miterator\u001b[0m\u001b[1;33m:\u001b[0m\u001b[1;33m\u001b[0m\u001b[1;33m\u001b[0m\u001b[0m\n",
      "\u001b[1;32mc:\\users\\алексей третьяков\\appdata\\local\\programs\\python\\python39\\lib\\site-packages\\pandas\\io\\parsers.py\u001b[0m in \u001b[0;36m__init__\u001b[1;34m(self, f, engine, **kwds)\u001b[0m\n\u001b[0;32m    817\u001b[0m             \u001b[0mself\u001b[0m\u001b[1;33m.\u001b[0m\u001b[0moptions\u001b[0m\u001b[1;33m[\u001b[0m\u001b[1;34m\"has_index_names\"\u001b[0m\u001b[1;33m]\u001b[0m \u001b[1;33m=\u001b[0m \u001b[0mkwds\u001b[0m\u001b[1;33m[\u001b[0m\u001b[1;34m\"has_index_names\"\u001b[0m\u001b[1;33m]\u001b[0m\u001b[1;33m\u001b[0m\u001b[1;33m\u001b[0m\u001b[0m\n\u001b[0;32m    818\u001b[0m \u001b[1;33m\u001b[0m\u001b[0m\n\u001b[1;32m--> 819\u001b[1;33m         \u001b[0mself\u001b[0m\u001b[1;33m.\u001b[0m\u001b[0m_engine\u001b[0m \u001b[1;33m=\u001b[0m \u001b[0mself\u001b[0m\u001b[1;33m.\u001b[0m\u001b[0m_make_engine\u001b[0m\u001b[1;33m(\u001b[0m\u001b[0mself\u001b[0m\u001b[1;33m.\u001b[0m\u001b[0mengine\u001b[0m\u001b[1;33m)\u001b[0m\u001b[1;33m\u001b[0m\u001b[1;33m\u001b[0m\u001b[0m\n\u001b[0m\u001b[0;32m    820\u001b[0m \u001b[1;33m\u001b[0m\u001b[0m\n\u001b[0;32m    821\u001b[0m     \u001b[1;32mdef\u001b[0m \u001b[0mclose\u001b[0m\u001b[1;33m(\u001b[0m\u001b[0mself\u001b[0m\u001b[1;33m)\u001b[0m\u001b[1;33m:\u001b[0m\u001b[1;33m\u001b[0m\u001b[1;33m\u001b[0m\u001b[0m\n",
      "\u001b[1;32mc:\\users\\алексей третьяков\\appdata\\local\\programs\\python\\python39\\lib\\site-packages\\pandas\\io\\parsers.py\u001b[0m in \u001b[0;36m_make_engine\u001b[1;34m(self, engine)\u001b[0m\n\u001b[0;32m   1048\u001b[0m             )\n\u001b[0;32m   1049\u001b[0m         \u001b[1;31m# error: Too many arguments for \"ParserBase\"\u001b[0m\u001b[1;33m\u001b[0m\u001b[1;33m\u001b[0m\u001b[1;33m\u001b[0m\u001b[0m\n\u001b[1;32m-> 1050\u001b[1;33m         \u001b[1;32mreturn\u001b[0m \u001b[0mmapping\u001b[0m\u001b[1;33m[\u001b[0m\u001b[0mengine\u001b[0m\u001b[1;33m]\u001b[0m\u001b[1;33m(\u001b[0m\u001b[0mself\u001b[0m\u001b[1;33m.\u001b[0m\u001b[0mf\u001b[0m\u001b[1;33m,\u001b[0m \u001b[1;33m**\u001b[0m\u001b[0mself\u001b[0m\u001b[1;33m.\u001b[0m\u001b[0moptions\u001b[0m\u001b[1;33m)\u001b[0m  \u001b[1;31m# type: ignore[call-arg]\u001b[0m\u001b[1;33m\u001b[0m\u001b[1;33m\u001b[0m\u001b[0m\n\u001b[0m\u001b[0;32m   1051\u001b[0m \u001b[1;33m\u001b[0m\u001b[0m\n\u001b[0;32m   1052\u001b[0m     \u001b[1;32mdef\u001b[0m \u001b[0m_failover_to_python\u001b[0m\u001b[1;33m(\u001b[0m\u001b[0mself\u001b[0m\u001b[1;33m)\u001b[0m\u001b[1;33m:\u001b[0m\u001b[1;33m\u001b[0m\u001b[1;33m\u001b[0m\u001b[0m\n",
      "\u001b[1;32mc:\\users\\алексей третьяков\\appdata\\local\\programs\\python\\python39\\lib\\site-packages\\pandas\\io\\parsers.py\u001b[0m in \u001b[0;36m__init__\u001b[1;34m(self, src, **kwds)\u001b[0m\n\u001b[0;32m   1865\u001b[0m \u001b[1;33m\u001b[0m\u001b[0m\n\u001b[0;32m   1866\u001b[0m         \u001b[1;31m# open handles\u001b[0m\u001b[1;33m\u001b[0m\u001b[1;33m\u001b[0m\u001b[1;33m\u001b[0m\u001b[0m\n\u001b[1;32m-> 1867\u001b[1;33m         \u001b[0mself\u001b[0m\u001b[1;33m.\u001b[0m\u001b[0m_open_handles\u001b[0m\u001b[1;33m(\u001b[0m\u001b[0msrc\u001b[0m\u001b[1;33m,\u001b[0m \u001b[0mkwds\u001b[0m\u001b[1;33m)\u001b[0m\u001b[1;33m\u001b[0m\u001b[1;33m\u001b[0m\u001b[0m\n\u001b[0m\u001b[0;32m   1868\u001b[0m         \u001b[1;32massert\u001b[0m \u001b[0mself\u001b[0m\u001b[1;33m.\u001b[0m\u001b[0mhandles\u001b[0m \u001b[1;32mis\u001b[0m \u001b[1;32mnot\u001b[0m \u001b[1;32mNone\u001b[0m\u001b[1;33m\u001b[0m\u001b[1;33m\u001b[0m\u001b[0m\n\u001b[0;32m   1869\u001b[0m         \u001b[1;32mfor\u001b[0m \u001b[0mkey\u001b[0m \u001b[1;32min\u001b[0m \u001b[1;33m(\u001b[0m\u001b[1;34m\"storage_options\"\u001b[0m\u001b[1;33m,\u001b[0m \u001b[1;34m\"encoding\"\u001b[0m\u001b[1;33m,\u001b[0m \u001b[1;34m\"memory_map\"\u001b[0m\u001b[1;33m,\u001b[0m \u001b[1;34m\"compression\"\u001b[0m\u001b[1;33m)\u001b[0m\u001b[1;33m:\u001b[0m\u001b[1;33m\u001b[0m\u001b[1;33m\u001b[0m\u001b[0m\n",
      "\u001b[1;32mc:\\users\\алексей третьяков\\appdata\\local\\programs\\python\\python39\\lib\\site-packages\\pandas\\io\\parsers.py\u001b[0m in \u001b[0;36m_open_handles\u001b[1;34m(self, src, kwds)\u001b[0m\n\u001b[0;32m   1360\u001b[0m         \u001b[0mLet\u001b[0m \u001b[0mthe\u001b[0m \u001b[0mreaders\u001b[0m \u001b[0mopen\u001b[0m \u001b[0mIOHanldes\u001b[0m \u001b[0mafter\u001b[0m \u001b[0mthey\u001b[0m \u001b[0mare\u001b[0m \u001b[0mdone\u001b[0m \u001b[1;32mwith\u001b[0m \u001b[0mtheir\u001b[0m \u001b[0mpotential\u001b[0m \u001b[0mraises\u001b[0m\u001b[1;33m.\u001b[0m\u001b[1;33m\u001b[0m\u001b[1;33m\u001b[0m\u001b[0m\n\u001b[0;32m   1361\u001b[0m         \"\"\"\n\u001b[1;32m-> 1362\u001b[1;33m         self.handles = get_handle(\n\u001b[0m\u001b[0;32m   1363\u001b[0m             \u001b[0msrc\u001b[0m\u001b[1;33m,\u001b[0m\u001b[1;33m\u001b[0m\u001b[1;33m\u001b[0m\u001b[0m\n\u001b[0;32m   1364\u001b[0m             \u001b[1;34m\"r\"\u001b[0m\u001b[1;33m,\u001b[0m\u001b[1;33m\u001b[0m\u001b[1;33m\u001b[0m\u001b[0m\n",
      "\u001b[1;32mc:\\users\\алексей третьяков\\appdata\\local\\programs\\python\\python39\\lib\\site-packages\\pandas\\io\\common.py\u001b[0m in \u001b[0;36mget_handle\u001b[1;34m(path_or_buf, mode, encoding, compression, memory_map, is_text, errors, storage_options)\u001b[0m\n\u001b[0;32m    640\u001b[0m                 \u001b[0merrors\u001b[0m \u001b[1;33m=\u001b[0m \u001b[1;34m\"replace\"\u001b[0m\u001b[1;33m\u001b[0m\u001b[1;33m\u001b[0m\u001b[0m\n\u001b[0;32m    641\u001b[0m             \u001b[1;31m# Encoding\u001b[0m\u001b[1;33m\u001b[0m\u001b[1;33m\u001b[0m\u001b[1;33m\u001b[0m\u001b[0m\n\u001b[1;32m--> 642\u001b[1;33m             handle = open(\n\u001b[0m\u001b[0;32m    643\u001b[0m                 \u001b[0mhandle\u001b[0m\u001b[1;33m,\u001b[0m\u001b[1;33m\u001b[0m\u001b[1;33m\u001b[0m\u001b[0m\n\u001b[0;32m    644\u001b[0m                 \u001b[0mioargs\u001b[0m\u001b[1;33m.\u001b[0m\u001b[0mmode\u001b[0m\u001b[1;33m,\u001b[0m\u001b[1;33m\u001b[0m\u001b[1;33m\u001b[0m\u001b[0m\n",
      "\u001b[1;31mFileNotFoundError\u001b[0m: [Errno 2] No such file or directory: 'C:/Users/Алексей Третьяков/Desktop/ML_rep/heat_project/output/data_2022_12_31_18_42.csv'"
     ]
    }
   ],
   "source": [
    "data = pd.read_csv('C:/Users/Алексей Третьяков/Desktop/ML_rep/heat_project/output/data_2022_12_31_18_42.csv', encoding='cp1251', sep=',')\n",
    "data"
   ]
  },
  {
   "cell_type": "code",
   "execution_count": 41,
   "id": "8859424a",
   "metadata": {},
   "outputs": [
    {
     "data": {
      "text/plain": [
       "17"
      ]
     },
     "execution_count": 41,
     "metadata": {},
     "output_type": "execute_result"
    }
   ],
   "source": [
    "inputs = pd.read_csv('C:/Users/Алексей Третьяков/Desktop/ML_rep/heat_project/input/input_data.csv', encoding='cp1251')\n",
    "inputs['tвнутр'].values[0]"
   ]
  }
 ],
 "metadata": {
  "kernelspec": {
   "display_name": "Python 3 (ipykernel)",
   "language": "python",
   "name": "python3"
  },
  "language_info": {
   "codemirror_mode": {
    "name": "ipython",
    "version": 3
   },
   "file_extension": ".py",
   "mimetype": "text/x-python",
   "name": "python",
   "nbconvert_exporter": "python",
   "pygments_lexer": "ipython3",
   "version": "3.9.1"
  }
 },
 "nbformat": 4,
 "nbformat_minor": 5
}
