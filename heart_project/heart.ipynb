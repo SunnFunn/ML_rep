{
 "cells": [
  {
   "cell_type": "code",
   "execution_count": 1,
   "id": "be930f87",
   "metadata": {},
   "outputs": [],
   "source": [
    "%matplotlib inline\n",
    "\n",
    "import pandas as pd\n",
    "from matplotlib import pyplot as plt\n",
    "import numpy as np\n",
    "import seaborn as sns\n",
    "\n",
    "#Загружаем необходимые нам библиотеки\n",
    "#библиотеки для моделирования\n",
    "from sklearn.tree import DecisionTreeClassifier\n",
    "from sklearn.ensemble import RandomForestClassifier, BaggingClassifier, GradientBoostingClassifier\n",
    "from sklearn.ensemble import ExtraTreesClassifier, AdaBoostClassifier\n",
    "from sklearn.linear_model import LogisticRegression\n",
    "from sklearn.neighbors import KNeighborsRegressor\n",
    "\n",
    "#для разбиения признаков, выборок и сеток для поиска лучших гиперпараметров\n",
    "from sklearn.model_selection import cross_val_score, train_test_split, KFold, learning_curve\n",
    "from sklearn.model_selection import RandomizedSearchCV, GridSearchCV\n",
    "\n",
    "from sklearn.preprocessing import LabelEncoder, OneHotEncoder\n",
    "\n",
    "#библиотеки отбора признаков и оценки их значимости\n",
    "from sklearn.feature_selection import mutual_info_classif, f_classif, chi2\n",
    "\n",
    "#оценки качества классификации\n",
    "from sklearn.metrics import confusion_matrix\n",
    "from sklearn.metrics import auc, roc_auc_score, roc_curve, f1_score, precision_score, recall_score"
   ]
  },
  {
   "cell_type": "markdown",
   "id": "93590db5",
   "metadata": {},
   "source": [
    "# 1. Data preview & analysis"
   ]
  },
  {
   "cell_type": "code",
   "execution_count": 2,
   "id": "09b90ea5",
   "metadata": {},
   "outputs": [],
   "source": [
    "hr = pd.read_csv('heart.csv')"
   ]
  },
  {
   "cell_type": "code",
   "execution_count": 3,
   "id": "8b072874",
   "metadata": {},
   "outputs": [
    {
     "data": {
      "text/html": [
       "<div>\n",
       "<style scoped>\n",
       "    .dataframe tbody tr th:only-of-type {\n",
       "        vertical-align: middle;\n",
       "    }\n",
       "\n",
       "    .dataframe tbody tr th {\n",
       "        vertical-align: top;\n",
       "    }\n",
       "\n",
       "    .dataframe thead th {\n",
       "        text-align: right;\n",
       "    }\n",
       "</style>\n",
       "<table border=\"1\" class=\"dataframe\">\n",
       "  <thead>\n",
       "    <tr style=\"text-align: right;\">\n",
       "      <th></th>\n",
       "      <th>Age</th>\n",
       "      <th>Sex</th>\n",
       "      <th>ChestPainType</th>\n",
       "      <th>RestingBP</th>\n",
       "      <th>Cholesterol</th>\n",
       "      <th>FastingBS</th>\n",
       "      <th>RestingECG</th>\n",
       "      <th>MaxHR</th>\n",
       "      <th>ExerciseAngina</th>\n",
       "      <th>Oldpeak</th>\n",
       "      <th>ST_Slope</th>\n",
       "      <th>HeartDisease</th>\n",
       "    </tr>\n",
       "  </thead>\n",
       "  <tbody>\n",
       "    <tr>\n",
       "      <th>784</th>\n",
       "      <td>65</td>\n",
       "      <td>M</td>\n",
       "      <td>TA</td>\n",
       "      <td>138</td>\n",
       "      <td>282</td>\n",
       "      <td>1</td>\n",
       "      <td>LVH</td>\n",
       "      <td>174</td>\n",
       "      <td>N</td>\n",
       "      <td>1.4</td>\n",
       "      <td>Flat</td>\n",
       "      <td>1</td>\n",
       "    </tr>\n",
       "    <tr>\n",
       "      <th>515</th>\n",
       "      <td>63</td>\n",
       "      <td>M</td>\n",
       "      <td>NAP</td>\n",
       "      <td>130</td>\n",
       "      <td>0</td>\n",
       "      <td>1</td>\n",
       "      <td>ST</td>\n",
       "      <td>160</td>\n",
       "      <td>N</td>\n",
       "      <td>3.0</td>\n",
       "      <td>Flat</td>\n",
       "      <td>0</td>\n",
       "    </tr>\n",
       "    <tr>\n",
       "      <th>344</th>\n",
       "      <td>51</td>\n",
       "      <td>M</td>\n",
       "      <td>ASY</td>\n",
       "      <td>120</td>\n",
       "      <td>0</td>\n",
       "      <td>1</td>\n",
       "      <td>Normal</td>\n",
       "      <td>104</td>\n",
       "      <td>N</td>\n",
       "      <td>0.0</td>\n",
       "      <td>Flat</td>\n",
       "      <td>1</td>\n",
       "    </tr>\n",
       "    <tr>\n",
       "      <th>681</th>\n",
       "      <td>51</td>\n",
       "      <td>M</td>\n",
       "      <td>ASY</td>\n",
       "      <td>140</td>\n",
       "      <td>261</td>\n",
       "      <td>0</td>\n",
       "      <td>LVH</td>\n",
       "      <td>186</td>\n",
       "      <td>Y</td>\n",
       "      <td>0.0</td>\n",
       "      <td>Up</td>\n",
       "      <td>0</td>\n",
       "    </tr>\n",
       "    <tr>\n",
       "      <th>6</th>\n",
       "      <td>45</td>\n",
       "      <td>F</td>\n",
       "      <td>ATA</td>\n",
       "      <td>130</td>\n",
       "      <td>237</td>\n",
       "      <td>0</td>\n",
       "      <td>Normal</td>\n",
       "      <td>170</td>\n",
       "      <td>N</td>\n",
       "      <td>0.0</td>\n",
       "      <td>Up</td>\n",
       "      <td>0</td>\n",
       "    </tr>\n",
       "  </tbody>\n",
       "</table>\n",
       "</div>"
      ],
      "text/plain": [
       "     Age Sex ChestPainType  RestingBP  Cholesterol  FastingBS RestingECG  \\\n",
       "784   65   M            TA        138          282          1        LVH   \n",
       "515   63   M           NAP        130            0          1         ST   \n",
       "344   51   M           ASY        120            0          1     Normal   \n",
       "681   51   M           ASY        140          261          0        LVH   \n",
       "6     45   F           ATA        130          237          0     Normal   \n",
       "\n",
       "     MaxHR ExerciseAngina  Oldpeak ST_Slope  HeartDisease  \n",
       "784    174              N      1.4     Flat             1  \n",
       "515    160              N      3.0     Flat             0  \n",
       "344    104              N      0.0     Flat             1  \n",
       "681    186              Y      0.0       Up             0  \n",
       "6      170              N      0.0       Up             0  "
      ]
     },
     "execution_count": 3,
     "metadata": {},
     "output_type": "execute_result"
    }
   ],
   "source": [
    "hr.sample(5)"
   ]
  },
  {
   "cell_type": "code",
   "execution_count": 4,
   "id": "d9a035fb",
   "metadata": {},
   "outputs": [
    {
     "data": {
      "image/png": "[encoded data removed]",
      "text/plain": [
       "<Figure size 720x360 with 1 Axes>"
      ]
     },
     "metadata": {
      "needs_background": "light"
     },
     "output_type": "display_data"
    },
    {
     "data": {
      "image/png": "[encoded data removed]",
      "text/plain": [
       "<Figure size 720x360 with 1 Axes>"
      ]
     },
     "metadata": {
      "needs_background": "light"
     },
     "output_type": "display_data"
    },
    {
     "data": {
      "image/png": "[encoded data removed]",
      "text/plain": [
       "<Figure size 720x360 with 1 Axes>"
      ]
     },
     "metadata": {
      "needs_background": "light"
     },
     "output_type": "display_data"
    },
    {
     "data": {
      "image/png": "[encoded data removed]",
      "text/plain": [
       "<Figure size 720x360 with 1 Axes>"
      ]
     },
     "metadata": {
      "needs_background": "light"
     },
     "output_type": "display_data"
    },
    {
     "data": {
      "image/png": "[encoded data removed]",
      "text/plain": [
       "<Figure size 720x360 with 1 Axes>"
      ]
     },
     "metadata": {
      "needs_background": "light"
     },
     "output_type": "display_data"
    },
    {
     "data": {
      "image/png": "[encoded data removed]",
      "text/plain": [
       "<Figure size 720x360 with 1 Axes>"
      ]
     },
     "metadata": {
      "needs_background": "light"
     },
     "output_type": "display_data"
    },
    {
     "data": {
      "image/png": "[encoded data removed]",
      "text/plain": [
       "<Figure size 720x360 with 1 Axes>"
      ]
     },
     "metadata": {
      "needs_background": "light"
     },
     "output_type": "display_data"
    },
    {
     "data": {
      "image/png": "[encoded data removed]",
      "text/plain": [
       "<Figure size 720x360 with 1 Axes>"
      ]
     },
     "metadata": {
      "needs_background": "light"
     },
     "output_type": "display_data"
    },
    {
     "data": {
      "image/png": "[encoded data removed]",
      "text/plain": [
       "<Figure size 720x360 with 1 Axes>"
      ]
     },
     "metadata": {
      "needs_background": "light"
     },
     "output_type": "display_data"
    },
    {
     "data": {
      "image/png": "[encoded data removed]",
      "text/plain": [
       "<Figure size 720x360 with 1 Axes>"
      ]
     },
     "metadata": {
      "needs_background": "light"
     },
     "output_type": "display_data"
    },
    {
     "data": {
      "image/png": "[encoded data removed]",
      "text/plain": [
       "<Figure size 720x360 with 1 Axes>"
      ]
     },
     "metadata": {
      "needs_background": "light"
     },
     "output_type": "display_data"
    },
    {
     "data": {
      "image/png": "[encoded data removed]",
      "text/plain": [
       "<Figure size 720x360 with 1 Axes>"
      ]
     },
     "metadata": {
      "needs_background": "light"
     },
     "output_type": "display_data"
    }
   ],
   "source": [
    "cols = hr.columns\n",
    "\n",
    "for col in cols:\n",
    "    plt.figure(figsize=(10, 5))\n",
    "    plt.title(col)\n",
    "    hr[col].hist(color='lightgreen', bins=50)"
   ]
  },
  {
   "cell_type": "code",
   "execution_count": 5,
   "id": "383bfde2",
   "metadata": {},
   "outputs": [],
   "source": [
    "nums = ['Age', 'RestingBP', 'Cholesterol', 'MaxHR', 'Oldpeak', 'FastingBS']\n",
    "cats = ['Sex','ChestPainType','RestingECG','ExerciseAngina','ST_Slope']"
   ]
  },
  {
   "cell_type": "code",
   "execution_count": 6,
   "id": "e77085bc",
   "metadata": {},
   "outputs": [
    {
     "data": {
      "text/plain": [
       "<AxesSubplot:>"
      ]
     },
     "execution_count": 6,
     "metadata": {},
     "output_type": "execute_result"
    },
    {
     "data": {
      "image/png": "[encoded data removed]",
      "text/plain": [
       "<Figure size 720x360 with 2 Axes>"
      ]
     },
     "metadata": {
      "needs_background": "light"
     },
     "output_type": "display_data"
    }
   ],
   "source": [
    "plt.figure(figsize=(10, 5))\n",
    "sns.heatmap(data=hr[hr.Cholesterol !=0][nums].corr(), annot=True)\n",
    "#посмотрим на корреляцию численных признаков"
   ]
  },
  {
   "cell_type": "code",
   "execution_count": 7,
   "id": "172e87a1",
   "metadata": {},
   "outputs": [],
   "source": [
    "reference = {}\n",
    "for col in cols[:-1]:\n",
    "    if col in cats:\n",
    "        reference[col] = hr[col].unique()\n",
    "    else:\n",
    "        reference[col] = [f'min: {hr[col].min()}, middle: {np.round(hr[col].mean())}, max: {hr[col].max()}']"
   ]
  },
  {
   "cell_type": "code",
   "execution_count": 8,
   "id": "0a058d0b",
   "metadata": {},
   "outputs": [
    {
     "name": "stdout",
     "output_type": "stream",
     "text": [
      "Словарь данных о пациентах:\n",
      "\n",
      "Age: ['min: 28, middle: 54.0, max: 77']\n",
      "Sex: ['M' 'F']\n",
      "ChestPainType: ['ATA' 'NAP' 'ASY' 'TA']\n",
      "RestingBP: ['min: 0, middle: 132.0, max: 200']\n",
      "Cholesterol: ['min: 0, middle: 199.0, max: 603']\n",
      "FastingBS: ['min: 0, middle: 0.0, max: 1']\n",
      "RestingECG: ['Normal' 'ST' 'LVH']\n",
      "MaxHR: ['min: 60, middle: 137.0, max: 202']\n",
      "ExerciseAngina: ['N' 'Y']\n",
      "Oldpeak: ['min: -2.6, middle: 1.0, max: 6.2']\n",
      "ST_Slope: ['Up' 'Flat' 'Down']\n"
     ]
    }
   ],
   "source": [
    "print('Словарь данных о пациентах:','', sep='\\n')\n",
    "for key,value in reference.items():\n",
    "    print(f'{key}: {value}')"
   ]
  },
  {
   "cell_type": "markdown",
   "id": "900c7ae4",
   "metadata": {},
   "source": [
    "# 2. Data preprocessing and feature engineering"
   ]
  },
  {
   "cell_type": "code",
   "execution_count": 9,
   "id": "a5fb5412",
   "metadata": {},
   "outputs": [],
   "source": [
    "def preprocessing_data (data):\n",
    "    data_processed = pd.get_dummies(data, columns = ['Sex', 'FastingBS', 'ExerciseAngina'])\n",
    "    \n",
    "    labelencoder = LabelEncoder()\n",
    "    \n",
    "    data_processed['ChestPainType'] = labelencoder.fit_transform(data_processed['ChestPainType'])\n",
    "    data_processed['RestingECG'] = labelencoder.fit_transform(data_processed['RestingECG'])\n",
    "    data_processed['ST_Slope'] = labelencoder.fit_transform(data_processed['ST_Slope'])\n",
    "    \n",
    "    return data_processed"
   ]
  },
  {
   "cell_type": "code",
   "execution_count": 10,
   "id": "da06f007",
   "metadata": {},
   "outputs": [],
   "source": [
    "hr_processed = preprocessing_data(hr)"
   ]
  },
  {
   "cell_type": "code",
   "execution_count": 11,
   "id": "1f61a748",
   "metadata": {},
   "outputs": [
    {
     "data": {
      "text/html": [
       "<div>\n",
       "<style scoped>\n",
       "    .dataframe tbody tr th:only-of-type {\n",
       "        vertical-align: middle;\n",
       "    }\n",
       "\n",
       "    .dataframe tbody tr th {\n",
       "        vertical-align: top;\n",
       "    }\n",
       "\n",
       "    .dataframe thead th {\n",
       "        text-align: right;\n",
       "    }\n",
       "</style>\n",
       "<table border=\"1\" class=\"dataframe\">\n",
       "  <thead>\n",
       "    <tr style=\"text-align: right;\">\n",
       "      <th></th>\n",
       "      <th>Age</th>\n",
       "      <th>ChestPainType</th>\n",
       "      <th>RestingBP</th>\n",
       "      <th>Cholesterol</th>\n",
       "      <th>RestingECG</th>\n",
       "      <th>MaxHR</th>\n",
       "      <th>Oldpeak</th>\n",
       "      <th>ST_Slope</th>\n",
       "      <th>HeartDisease</th>\n",
       "      <th>Sex_F</th>\n",
       "      <th>Sex_M</th>\n",
       "      <th>FastingBS_0</th>\n",
       "      <th>FastingBS_1</th>\n",
       "      <th>ExerciseAngina_N</th>\n",
       "      <th>ExerciseAngina_Y</th>\n",
       "    </tr>\n",
       "  </thead>\n",
       "  <tbody>\n",
       "    <tr>\n",
       "      <th>0</th>\n",
       "      <td>40</td>\n",
       "      <td>1</td>\n",
       "      <td>140</td>\n",
       "      <td>289</td>\n",
       "      <td>1</td>\n",
       "      <td>172</td>\n",
       "      <td>0.0</td>\n",
       "      <td>2</td>\n",
       "      <td>0</td>\n",
       "      <td>0</td>\n",
       "      <td>1</td>\n",
       "      <td>1</td>\n",
       "      <td>0</td>\n",
       "      <td>1</td>\n",
       "      <td>0</td>\n",
       "    </tr>\n",
       "    <tr>\n",
       "      <th>1</th>\n",
       "      <td>49</td>\n",
       "      <td>2</td>\n",
       "      <td>160</td>\n",
       "      <td>180</td>\n",
       "      <td>1</td>\n",
       "      <td>156</td>\n",
       "      <td>1.0</td>\n",
       "      <td>1</td>\n",
       "      <td>1</td>\n",
       "      <td>1</td>\n",
       "      <td>0</td>\n",
       "      <td>1</td>\n",
       "      <td>0</td>\n",
       "      <td>1</td>\n",
       "      <td>0</td>\n",
       "    </tr>\n",
       "    <tr>\n",
       "      <th>2</th>\n",
       "      <td>37</td>\n",
       "      <td>1</td>\n",
       "      <td>130</td>\n",
       "      <td>283</td>\n",
       "      <td>2</td>\n",
       "      <td>98</td>\n",
       "      <td>0.0</td>\n",
       "      <td>2</td>\n",
       "      <td>0</td>\n",
       "      <td>0</td>\n",
       "      <td>1</td>\n",
       "      <td>1</td>\n",
       "      <td>0</td>\n",
       "      <td>1</td>\n",
       "      <td>0</td>\n",
       "    </tr>\n",
       "    <tr>\n",
       "      <th>3</th>\n",
       "      <td>48</td>\n",
       "      <td>0</td>\n",
       "      <td>138</td>\n",
       "      <td>214</td>\n",
       "      <td>1</td>\n",
       "      <td>108</td>\n",
       "      <td>1.5</td>\n",
       "      <td>1</td>\n",
       "      <td>1</td>\n",
       "      <td>1</td>\n",
       "      <td>0</td>\n",
       "      <td>1</td>\n",
       "      <td>0</td>\n",
       "      <td>0</td>\n",
       "      <td>1</td>\n",
       "    </tr>\n",
       "    <tr>\n",
       "      <th>4</th>\n",
       "      <td>54</td>\n",
       "      <td>2</td>\n",
       "      <td>150</td>\n",
       "      <td>195</td>\n",
       "      <td>1</td>\n",
       "      <td>122</td>\n",
       "      <td>0.0</td>\n",
       "      <td>2</td>\n",
       "      <td>0</td>\n",
       "      <td>0</td>\n",
       "      <td>1</td>\n",
       "      <td>1</td>\n",
       "      <td>0</td>\n",
       "      <td>1</td>\n",
       "      <td>0</td>\n",
       "    </tr>\n",
       "    <tr>\n",
       "      <th>...</th>\n",
       "      <td>...</td>\n",
       "      <td>...</td>\n",
       "      <td>...</td>\n",
       "      <td>...</td>\n",
       "      <td>...</td>\n",
       "      <td>...</td>\n",
       "      <td>...</td>\n",
       "      <td>...</td>\n",
       "      <td>...</td>\n",
       "      <td>...</td>\n",
       "      <td>...</td>\n",
       "      <td>...</td>\n",
       "      <td>...</td>\n",
       "      <td>...</td>\n",
       "      <td>...</td>\n",
       "    </tr>\n",
       "    <tr>\n",
       "      <th>913</th>\n",
       "      <td>45</td>\n",
       "      <td>3</td>\n",
       "      <td>110</td>\n",
       "      <td>264</td>\n",
       "      <td>1</td>\n",
       "      <td>132</td>\n",
       "      <td>1.2</td>\n",
       "      <td>1</td>\n",
       "      <td>1</td>\n",
       "      <td>0</td>\n",
       "      <td>1</td>\n",
       "      <td>1</td>\n",
       "      <td>0</td>\n",
       "      <td>1</td>\n",
       "      <td>0</td>\n",
       "    </tr>\n",
       "    <tr>\n",
       "      <th>914</th>\n",
       "      <td>68</td>\n",
       "      <td>0</td>\n",
       "      <td>144</td>\n",
       "      <td>193</td>\n",
       "      <td>1</td>\n",
       "      <td>141</td>\n",
       "      <td>3.4</td>\n",
       "      <td>1</td>\n",
       "      <td>1</td>\n",
       "      <td>0</td>\n",
       "      <td>1</td>\n",
       "      <td>0</td>\n",
       "      <td>1</td>\n",
       "      <td>1</td>\n",
       "      <td>0</td>\n",
       "    </tr>\n",
       "    <tr>\n",
       "      <th>915</th>\n",
       "      <td>57</td>\n",
       "      <td>0</td>\n",
       "      <td>130</td>\n",
       "      <td>131</td>\n",
       "      <td>1</td>\n",
       "      <td>115</td>\n",
       "      <td>1.2</td>\n",
       "      <td>1</td>\n",
       "      <td>1</td>\n",
       "      <td>0</td>\n",
       "      <td>1</td>\n",
       "      <td>1</td>\n",
       "      <td>0</td>\n",
       "      <td>0</td>\n",
       "      <td>1</td>\n",
       "    </tr>\n",
       "    <tr>\n",
       "      <th>916</th>\n",
       "      <td>57</td>\n",
       "      <td>1</td>\n",
       "      <td>130</td>\n",
       "      <td>236</td>\n",
       "      <td>0</td>\n",
       "      <td>174</td>\n",
       "      <td>0.0</td>\n",
       "      <td>1</td>\n",
       "      <td>1</td>\n",
       "      <td>1</td>\n",
       "      <td>0</td>\n",
       "      <td>1</td>\n",
       "      <td>0</td>\n",
       "      <td>1</td>\n",
       "      <td>0</td>\n",
       "    </tr>\n",
       "    <tr>\n",
       "      <th>917</th>\n",
       "      <td>38</td>\n",
       "      <td>2</td>\n",
       "      <td>138</td>\n",
       "      <td>175</td>\n",
       "      <td>1</td>\n",
       "      <td>173</td>\n",
       "      <td>0.0</td>\n",
       "      <td>2</td>\n",
       "      <td>0</td>\n",
       "      <td>0</td>\n",
       "      <td>1</td>\n",
       "      <td>1</td>\n",
       "      <td>0</td>\n",
       "      <td>1</td>\n",
       "      <td>0</td>\n",
       "    </tr>\n",
       "  </tbody>\n",
       "</table>\n",
       "<p>918 rows × 15 columns</p>\n",
       "</div>"
      ],
      "text/plain": [
       "     Age  ChestPainType  RestingBP  Cholesterol  RestingECG  MaxHR  Oldpeak  \\\n",
       "0     40              1        140          289           1    172      0.0   \n",
       "1     49              2        160          180           1    156      1.0   \n",
       "2     37              1        130          283           2     98      0.0   \n",
       "3     48              0        138          214           1    108      1.5   \n",
       "4     54              2        150          195           1    122      0.0   \n",
       "..   ...            ...        ...          ...         ...    ...      ...   \n",
       "913   45              3        110          264           1    132      1.2   \n",
       "914   68              0        144          193           1    141      3.4   \n",
       "915   57              0        130          131           1    115      1.2   \n",
       "916   57              1        130          236           0    174      0.0   \n",
       "917   38              2        138          175           1    173      0.0   \n",
       "\n",
       "     ST_Slope  HeartDisease  Sex_F  Sex_M  FastingBS_0  FastingBS_1  \\\n",
       "0           2             0      0      1            1            0   \n",
       "1           1             1      1      0            1            0   \n",
       "2           2             0      0      1            1            0   \n",
       "3           1             1      1      0            1            0   \n",
       "4           2             0      0      1            1            0   \n",
       "..        ...           ...    ...    ...          ...          ...   \n",
       "913         1             1      0      1            1            0   \n",
       "914         1             1      0      1            0            1   \n",
       "915         1             1      0      1            1            0   \n",
       "916         1             1      1      0            1            0   \n",
       "917         2             0      0      1            1            0   \n",
       "\n",
       "     ExerciseAngina_N  ExerciseAngina_Y  \n",
       "0                   1                 0  \n",
       "1                   1                 0  \n",
       "2                   1                 0  \n",
       "3                   0                 1  \n",
       "4                   1                 0  \n",
       "..                ...               ...  \n",
       "913                 1                 0  \n",
       "914                 1                 0  \n",
       "915                 0                 1  \n",
       "916                 1                 0  \n",
       "917                 1                 0  \n",
       "\n",
       "[918 rows x 15 columns]"
      ]
     },
     "execution_count": 11,
     "metadata": {},
     "output_type": "execute_result"
    }
   ],
   "source": [
    "hr_processed"
   ]
  },
  {
   "cell_type": "code",
   "execution_count": 12,
   "id": "280fa9a0",
   "metadata": {},
   "outputs": [
    {
     "data": {
      "text/plain": [
       "array([228.59539908,  93.24088407,  54.01013619, 123.64150555,\n",
       "       158.27843704,  51.07566585,  37.57520791, 186.6736329 ,\n",
       "        84.4677321 , 135.08950883])"
      ]
     },
     "execution_count": 12,
     "metadata": {},
     "output_type": "execute_result"
    }
   ],
   "source": [
    "#сделаем сет для Хи квадрат теста и сам тест\n",
    "X_select = hr_processed[hr_processed.Cholesterol != 0].drop(nums[:-1], axis=1).values\n",
    "y_select = hr_processed[hr_processed.Cholesterol != 0].Cholesterol.values\n",
    "\n",
    "chi2(X_select,y_select)[0]"
   ]
  },
  {
   "cell_type": "code",
   "execution_count": 13,
   "id": "8e37f8f0",
   "metadata": {},
   "outputs": [],
   "source": [
    "#Холестерин имеет много нулевых значений\n",
    "#заполним их алгоритмом машинного обучения по другим признакам\n",
    "#Выберем первые 4 признака с максимальным значением Хи квадрат: ChestPainType, Sex_F, FastingBS_1, ExerciseAngina_Y\n",
    "chol = ['ChestPainType', 'Sex_F', 'FastingBS_1', 'ExerciseAngina_Y']\n",
    "\n",
    "#тренировочный сет для K-соседей, стандартизируем признаки\n",
    "X_k_train = hr_processed[hr_processed.Cholesterol != 0][chol].values\n",
    "\n",
    "#тестовый сет для K-соседей, стандартизируем признаки\n",
    "X_k_pred = hr_processed[hr_processed.Cholesterol == 0][chol].values"
   ]
  },
  {
   "cell_type": "code",
   "execution_count": 14,
   "id": "e85002de",
   "metadata": {},
   "outputs": [
    {
     "data": {
      "text/plain": [
       "((746,), (746, 4), (172, 4))"
      ]
     },
     "execution_count": 14,
     "metadata": {},
     "output_type": "execute_result"
    }
   ],
   "source": [
    "y_select.shape, X_k_train.shape, X_k_pred.shape"
   ]
  },
  {
   "cell_type": "code",
   "execution_count": 15,
   "id": "6b17ab93",
   "metadata": {},
   "outputs": [
    {
     "data": {
      "text/html": [
       "<div>\n",
       "<style scoped>\n",
       "    .dataframe tbody tr th:only-of-type {\n",
       "        vertical-align: middle;\n",
       "    }\n",
       "\n",
       "    .dataframe tbody tr th {\n",
       "        vertical-align: top;\n",
       "    }\n",
       "\n",
       "    .dataframe thead th {\n",
       "        text-align: right;\n",
       "    }\n",
       "</style>\n",
       "<table border=\"1\" class=\"dataframe\">\n",
       "  <thead>\n",
       "    <tr style=\"text-align: right;\">\n",
       "      <th></th>\n",
       "      <th>Age</th>\n",
       "      <th>ChestPainType</th>\n",
       "      <th>RestingBP</th>\n",
       "      <th>Cholesterol</th>\n",
       "      <th>RestingECG</th>\n",
       "      <th>MaxHR</th>\n",
       "      <th>Oldpeak</th>\n",
       "      <th>ST_Slope</th>\n",
       "      <th>HeartDisease</th>\n",
       "      <th>Sex_F</th>\n",
       "      <th>Sex_M</th>\n",
       "      <th>FastingBS_0</th>\n",
       "      <th>FastingBS_1</th>\n",
       "      <th>ExerciseAngina_N</th>\n",
       "      <th>ExerciseAngina_Y</th>\n",
       "    </tr>\n",
       "  </thead>\n",
       "  <tbody>\n",
       "    <tr>\n",
       "      <th>38</th>\n",
       "      <td>48</td>\n",
       "      <td>1</td>\n",
       "      <td>120</td>\n",
       "      <td>177.000000</td>\n",
       "      <td>2</td>\n",
       "      <td>148</td>\n",
       "      <td>0.0</td>\n",
       "      <td>2</td>\n",
       "      <td>0</td>\n",
       "      <td>1</td>\n",
       "      <td>0</td>\n",
       "      <td>0</td>\n",
       "      <td>1</td>\n",
       "      <td>1</td>\n",
       "      <td>0</td>\n",
       "    </tr>\n",
       "    <tr>\n",
       "      <th>819</th>\n",
       "      <td>55</td>\n",
       "      <td>0</td>\n",
       "      <td>160</td>\n",
       "      <td>289.000000</td>\n",
       "      <td>0</td>\n",
       "      <td>145</td>\n",
       "      <td>0.8</td>\n",
       "      <td>1</td>\n",
       "      <td>1</td>\n",
       "      <td>0</td>\n",
       "      <td>1</td>\n",
       "      <td>1</td>\n",
       "      <td>0</td>\n",
       "      <td>0</td>\n",
       "      <td>1</td>\n",
       "    </tr>\n",
       "    <tr>\n",
       "      <th>129</th>\n",
       "      <td>42</td>\n",
       "      <td>2</td>\n",
       "      <td>120</td>\n",
       "      <td>228.000000</td>\n",
       "      <td>1</td>\n",
       "      <td>152</td>\n",
       "      <td>1.5</td>\n",
       "      <td>1</td>\n",
       "      <td>0</td>\n",
       "      <td>0</td>\n",
       "      <td>1</td>\n",
       "      <td>1</td>\n",
       "      <td>0</td>\n",
       "      <td>0</td>\n",
       "      <td>1</td>\n",
       "    </tr>\n",
       "    <tr>\n",
       "      <th>1</th>\n",
       "      <td>49</td>\n",
       "      <td>2</td>\n",
       "      <td>160</td>\n",
       "      <td>180.000000</td>\n",
       "      <td>1</td>\n",
       "      <td>156</td>\n",
       "      <td>1.0</td>\n",
       "      <td>1</td>\n",
       "      <td>1</td>\n",
       "      <td>1</td>\n",
       "      <td>0</td>\n",
       "      <td>1</td>\n",
       "      <td>0</td>\n",
       "      <td>1</td>\n",
       "      <td>0</td>\n",
       "    </tr>\n",
       "    <tr>\n",
       "      <th>512</th>\n",
       "      <td>35</td>\n",
       "      <td>2</td>\n",
       "      <td>123</td>\n",
       "      <td>161.000000</td>\n",
       "      <td>2</td>\n",
       "      <td>153</td>\n",
       "      <td>-0.1</td>\n",
       "      <td>2</td>\n",
       "      <td>0</td>\n",
       "      <td>0</td>\n",
       "      <td>1</td>\n",
       "      <td>1</td>\n",
       "      <td>0</td>\n",
       "      <td>1</td>\n",
       "      <td>0</td>\n",
       "    </tr>\n",
       "    <tr>\n",
       "      <th>254</th>\n",
       "      <td>55</td>\n",
       "      <td>0</td>\n",
       "      <td>145</td>\n",
       "      <td>248.000000</td>\n",
       "      <td>1</td>\n",
       "      <td>96</td>\n",
       "      <td>2.0</td>\n",
       "      <td>1</td>\n",
       "      <td>1</td>\n",
       "      <td>0</td>\n",
       "      <td>1</td>\n",
       "      <td>1</td>\n",
       "      <td>0</td>\n",
       "      <td>0</td>\n",
       "      <td>1</td>\n",
       "    </tr>\n",
       "    <tr>\n",
       "      <th>378</th>\n",
       "      <td>70</td>\n",
       "      <td>0</td>\n",
       "      <td>140</td>\n",
       "      <td>327.285714</td>\n",
       "      <td>1</td>\n",
       "      <td>157</td>\n",
       "      <td>2.0</td>\n",
       "      <td>1</td>\n",
       "      <td>1</td>\n",
       "      <td>0</td>\n",
       "      <td>1</td>\n",
       "      <td>0</td>\n",
       "      <td>1</td>\n",
       "      <td>0</td>\n",
       "      <td>1</td>\n",
       "    </tr>\n",
       "    <tr>\n",
       "      <th>679</th>\n",
       "      <td>63</td>\n",
       "      <td>3</td>\n",
       "      <td>145</td>\n",
       "      <td>233.000000</td>\n",
       "      <td>0</td>\n",
       "      <td>150</td>\n",
       "      <td>2.3</td>\n",
       "      <td>0</td>\n",
       "      <td>0</td>\n",
       "      <td>0</td>\n",
       "      <td>1</td>\n",
       "      <td>0</td>\n",
       "      <td>1</td>\n",
       "      <td>1</td>\n",
       "      <td>0</td>\n",
       "    </tr>\n",
       "    <tr>\n",
       "      <th>28</th>\n",
       "      <td>53</td>\n",
       "      <td>1</td>\n",
       "      <td>113</td>\n",
       "      <td>468.000000</td>\n",
       "      <td>1</td>\n",
       "      <td>127</td>\n",
       "      <td>0.0</td>\n",
       "      <td>2</td>\n",
       "      <td>0</td>\n",
       "      <td>1</td>\n",
       "      <td>0</td>\n",
       "      <td>1</td>\n",
       "      <td>0</td>\n",
       "      <td>1</td>\n",
       "      <td>0</td>\n",
       "    </tr>\n",
       "    <tr>\n",
       "      <th>726</th>\n",
       "      <td>41</td>\n",
       "      <td>1</td>\n",
       "      <td>110</td>\n",
       "      <td>235.000000</td>\n",
       "      <td>1</td>\n",
       "      <td>153</td>\n",
       "      <td>0.0</td>\n",
       "      <td>2</td>\n",
       "      <td>0</td>\n",
       "      <td>0</td>\n",
       "      <td>1</td>\n",
       "      <td>1</td>\n",
       "      <td>0</td>\n",
       "      <td>1</td>\n",
       "      <td>0</td>\n",
       "    </tr>\n",
       "  </tbody>\n",
       "</table>\n",
       "</div>"
      ],
      "text/plain": [
       "     Age  ChestPainType  RestingBP  Cholesterol  RestingECG  MaxHR  Oldpeak  \\\n",
       "38    48              1        120   177.000000           2    148      0.0   \n",
       "819   55              0        160   289.000000           0    145      0.8   \n",
       "129   42              2        120   228.000000           1    152      1.5   \n",
       "1     49              2        160   180.000000           1    156      1.0   \n",
       "512   35              2        123   161.000000           2    153     -0.1   \n",
       "254   55              0        145   248.000000           1     96      2.0   \n",
       "378   70              0        140   327.285714           1    157      2.0   \n",
       "679   63              3        145   233.000000           0    150      2.3   \n",
       "28    53              1        113   468.000000           1    127      0.0   \n",
       "726   41              1        110   235.000000           1    153      0.0   \n",
       "\n",
       "     ST_Slope  HeartDisease  Sex_F  Sex_M  FastingBS_0  FastingBS_1  \\\n",
       "38          2             0      1      0            0            1   \n",
       "819         1             1      0      1            1            0   \n",
       "129         1             0      0      1            1            0   \n",
       "1           1             1      1      0            1            0   \n",
       "512         2             0      0      1            1            0   \n",
       "254         1             1      0      1            1            0   \n",
       "378         1             1      0      1            0            1   \n",
       "679         0             0      0      1            0            1   \n",
       "28          2             0      1      0            1            0   \n",
       "726         2             0      0      1            1            0   \n",
       "\n",
       "     ExerciseAngina_N  ExerciseAngina_Y  \n",
       "38                  1                 0  \n",
       "819                 0                 1  \n",
       "129                 0                 1  \n",
       "1                   1                 0  \n",
       "512                 1                 0  \n",
       "254                 0                 1  \n",
       "378                 0                 1  \n",
       "679                 1                 0  \n",
       "28                  1                 0  \n",
       "726                 1                 0  "
      ]
     },
     "execution_count": 15,
     "metadata": {},
     "output_type": "execute_result"
    }
   ],
   "source": [
    "clusterer = KNeighborsRegressor(n_neighbors = 7, weights='distance') #создаем экземпляр модели с 7-ю соседями\n",
    "clusterer.fit(X_k_train,y_select) #тренируем модель\n",
    "\n",
    "y_pred = clusterer.predict(X_k_pred)# делаем предсказание холестерина\n",
    "y_pred_df = pd.DataFrame(data=y_pred, columns=['Cholesterol_pred']) #создаем даатфрейм с колонкой прогнозных значений\n",
    "\n",
    "hr_processed.loc[(hr_processed['Cholesterol'] ==0), 'Cholesterol'] = y_pred_df['Cholesterol_pred'].values #меняем нули в колонке tax на прогнозные значения\n",
    "hr_processed.sample(10)"
   ]
  },
  {
   "cell_type": "code",
   "execution_count": 16,
   "id": "073a682c",
   "metadata": {},
   "outputs": [
    {
     "data": {
      "text/plain": [
       "<AxesSubplot:title={'center':'Cholesterol'}>"
      ]
     },
     "execution_count": 16,
     "metadata": {},
     "output_type": "execute_result"
    },
    {
     "data": {
      "image/png": "[encoded data removed]",
      "text/plain": [
       "<Figure size 720x360 with 1 Axes>"
      ]
     },
     "metadata": {
      "needs_background": "light"
     },
     "output_type": "display_data"
    }
   ],
   "source": [
    "plt.figure(figsize=(10, 5))\n",
    "plt.title('Cholesterol')\n",
    "hr_processed['Cholesterol'].hist(color='lightgreen', bins=50)"
   ]
  },
  {
   "cell_type": "markdown",
   "id": "aada8933",
   "metadata": {},
   "source": [
    "# 3. Modeling"
   ]
  },
  {
   "cell_type": "code",
   "execution_count": 17,
   "id": "142d824b",
   "metadata": {},
   "outputs": [],
   "source": [
    "RANDOM_SEED = 42"
   ]
  },
  {
   "cell_type": "code",
   "execution_count": 18,
   "id": "9a03a965",
   "metadata": {},
   "outputs": [],
   "source": [
    "X = hr_processed.drop('HeartDisease', axis=1).values\n",
    "y = hr_processed.HeartDisease.values"
   ]
  },
  {
   "cell_type": "code",
   "execution_count": 19,
   "id": "0fc7a4f7",
   "metadata": {},
   "outputs": [],
   "source": [
    "#разобьем данные на тест и трейн\n",
    "X_train, X_test, y_train, y_test = train_test_split(X, y, test_size=0.3, shuffle=True, random_state=RANDOM_SEED)"
   ]
  },
  {
   "cell_type": "code",
   "execution_count": 20,
   "id": "7cc8549f",
   "metadata": {},
   "outputs": [
    {
     "data": {
      "text/plain": [
       "((642, 14), (276, 14), (642,), (276,))"
      ]
     },
     "execution_count": 20,
     "metadata": {},
     "output_type": "execute_result"
    }
   ],
   "source": [
    "X_train.shape, X_test.shape, y_train.shape, y_test.shape"
   ]
  },
  {
   "cell_type": "code",
   "execution_count": 39,
   "id": "6e394c9b",
   "metadata": {},
   "outputs": [],
   "source": [
    "clf_etree = ExtraTreesClassifier(random_state=RANDOM_SEED,\n",
    "                                      n_estimators = 500,\n",
    "                                      n_jobs=-1)\n",
    "model_extree = clf_etree.fit(X_train, y_train)\n",
    "y_pred = model_extree.predict(X_test)\n",
    "y_proba = model_extree.predict_proba(X_test)[:,1]"
   ]
  },
  {
   "cell_type": "code",
   "execution_count": 40,
   "id": "27fad556",
   "metadata": {},
   "outputs": [],
   "source": [
    "def print_regression_metrics(y_test, y_pred, y_proba):\n",
    "    f1 = f1_score(y_test, y_pred)\n",
    "    recall = recall_score(y_test, y_pred)\n",
    "    precision = precision_score(y_test, y_pred)\n",
    "    auc = roc_auc_score(y_test, y_proba)\n",
    "    cm = confusion_matrix(y_test, y_pred)\n",
    "    print(f'f1 = {f1:.3f}, recall = {recall:.3f}, precision = {precision:.3f}, auc = {auc:.3f}')\n",
    "    print('confusion_matrix:', cm, sep='\\n')"
   ]
  },
  {
   "cell_type": "code",
   "execution_count": 41,
   "id": "45596274",
   "metadata": {},
   "outputs": [
    {
     "data": {
      "image/png": "[encoded data removed]",
      "text/plain": [
       "<Figure size 432x288 with 1 Axes>"
      ]
     },
     "metadata": {
      "needs_background": "light"
     },
     "output_type": "display_data"
    },
    {
     "name": "stdout",
     "output_type": "stream",
     "text": [
      "Средняя вероятность: 0.54\n"
     ]
    }
   ],
   "source": [
    "# рассчитываем roc-кривую\n",
    "fpr, tpr, treshold = roc_curve(y_test, y_proba)\n",
    "roc_auc = auc(fpr, tpr)\n",
    "\n",
    "# строим график\n",
    "plt.plot(fpr, tpr, color='darkorange',\n",
    "label='ROC кривая (area = %0.2f)' % roc_auc)\n",
    "plt.plot([0, 1], [0, 1], color='navy', linestyle='--')\n",
    "plt.xlim([0.0, 1.0])\n",
    "plt.ylim([0.0, 1.05])\n",
    "plt.xlabel('False Positive Rate')\n",
    "plt.ylabel('True Positive Rate')\n",
    "plt.title('ROC-кривая')\n",
    "plt.legend(loc=\"lower right\")\n",
    "plt.show()\n",
    "print('Средняя вероятность:', round(np.mean(y_proba),4))"
   ]
  },
  {
   "cell_type": "code",
   "execution_count": 42,
   "id": "e7f9d2e1",
   "metadata": {},
   "outputs": [
    {
     "name": "stdout",
     "output_type": "stream",
     "text": [
      "f1 = 0.906, recall = 0.884, precision = 0.929, auc = 0.941\n",
      "confusion_matrix:\n",
      "[[101  11]\n",
      " [ 19 145]]\n"
     ]
    }
   ],
   "source": [
    "print_regression_metrics(y_test, y_pred, y_proba)"
   ]
  },
  {
   "cell_type": "code",
   "execution_count": 25,
   "id": "4c3ea06b",
   "metadata": {},
   "outputs": [
    {
     "data": {
      "text/plain": [
       "<AxesSubplot:>"
      ]
     },
     "execution_count": 25,
     "metadata": {},
     "output_type": "execute_result"
    },
    {
     "data": {
      "image/png": "[encoded data removed]",
      "text/plain": [
       "<Figure size 432x288 with 1 Axes>"
      ]
     },
     "metadata": {
      "needs_background": "light"
     },
     "output_type": "display_data"
    }
   ],
   "source": [
    "#будем считать новые колонки численными и добавим их в список численных колонок\n",
    "imp_num = pd.Series(f_classif(hr_processed[nums[:-1]], hr_processed['HeartDisease'])[0], index=nums[:-1])\n",
    "imp_num.sort_values(inplace = True)\n",
    "imp_num.plot(kind = 'barh')"
   ]
  },
  {
   "cell_type": "code",
   "execution_count": 26,
   "id": "28d1d3a8",
   "metadata": {},
   "outputs": [
    {
     "data": {
      "text/plain": [
       "['Age', 'RestingBP', 'Cholesterol', 'MaxHR', 'Oldpeak', 'HeartDisease']"
      ]
     },
     "execution_count": 26,
     "metadata": {},
     "output_type": "execute_result"
    }
   ],
   "source": [
    "nums_true = nums[:-1]\n",
    "nums_true.append('HeartDisease')\n",
    "nums_true"
   ]
  },
  {
   "cell_type": "code",
   "execution_count": 27,
   "id": "d1525d9e",
   "metadata": {},
   "outputs": [
    {
     "data": {
      "text/plain": [
       "<AxesSubplot:>"
      ]
     },
     "execution_count": 27,
     "metadata": {},
     "output_type": "execute_result"
    },
    {
     "data": {
      "image/png": "[encoded data removed]",
      "text/plain": [
       "<Figure size 432x288 with 1 Axes>"
      ]
     },
     "metadata": {
      "needs_background": "light"
     },
     "output_type": "display_data"
    }
   ],
   "source": [
    "#сделаем еще списки категориальных и бинарных колонок и посмотрим их значимость\n",
    "cats = hr_processed.drop(nums_true, axis=1).columns\n",
    "imp_cat = pd.Series(mutual_info_classif(hr_processed[cats], hr_processed['HeartDisease'],\n",
    "discrete_features =True), index = cats)\n",
    "imp_cat.sort_values(inplace = True)\n",
    "imp_cat.plot(kind = 'barh')"
   ]
  },
  {
   "cell_type": "markdown",
   "id": "655271ca",
   "metadata": {},
   "source": [
    "# 4. Prognosis"
   ]
  },
  {
   "cell_type": "code",
   "execution_count": 394,
   "id": "8c6ed7ca",
   "metadata": {},
   "outputs": [
    {
     "name": "stdout",
     "output_type": "stream",
     "text": [
      "Здравствуйте, необходимо ввести свои медцинские данные для оценки риска кардиологического заболевания.\n",
      "\n",
      "В случае возникновения вопросов с введением данных пользуйтесь справочной таблицей.\n"
     ]
    }
   ],
   "source": [
    "print('Здравствуйте, необходимо ввести свои медцинские данные для оценки риска кардиологического заболевания.',\n",
    "      'В случае возникновения вопросов с введением данных пользуйтесь справочной таблицей.', sep='\\n\\n')"
   ]
  },
  {
   "cell_type": "code",
   "execution_count": 395,
   "id": "c2340bcb",
   "metadata": {},
   "outputs": [
    {
     "name": "stdout",
     "output_type": "stream",
     "text": [
      "Введите ваши данные о Age:51\n",
      "Введите ваши данные о Sex:M\n",
      "Введите ваши данные о ChestPainType:ATA\n",
      "Введите ваши данные о RestingBP:125\n",
      "Введите ваши данные о Cholesterol:140\n",
      "Введите ваши данные о FastingBS:0\n",
      "Введите ваши данные о RestingECG:Normal\n",
      "Введите ваши данные о MaxHR:170\n",
      "Введите ваши данные о ExerciseAngina:N\n",
      "Введите ваши данные о Oldpeak:1\n",
      "Введите ваши данные о ST_Slope:Up\n"
     ]
    }
   ],
   "source": [
    "input_data = {}\n",
    "for col in hr.columns[:-1]:\n",
    "    if col in nums:\n",
    "        input_data[col] = int(input(f'Введите ваши данные {col}:'))\n",
    "    else:\n",
    "        input_data[col] = input(f'Введите ваши данные {col}:')"
   ]
  },
  {
   "cell_type": "code",
   "execution_count": 396,
   "id": "7aa3c670",
   "metadata": {},
   "outputs": [],
   "source": [
    "input_data_df = pd.DataFrame(data=input_data, index=[918])"
   ]
  },
  {
   "cell_type": "code",
   "execution_count": 397,
   "id": "196b75c9",
   "metadata": {},
   "outputs": [],
   "source": [
    "hr_input = hr.append(input_data_df).drop(['HeartDisease'], axis=1)"
   ]
  },
  {
   "cell_type": "code",
   "execution_count": 398,
   "id": "34e2ca54",
   "metadata": {},
   "outputs": [],
   "source": [
    "y_to_pred = preprocessing_data(hr_input).loc[len(hr_input) - 1].values.reshape(1,14)"
   ]
  },
  {
   "cell_type": "code",
   "execution_count": 399,
   "id": "58a781a3",
   "metadata": {},
   "outputs": [],
   "source": [
    "y_pred = model_extree.predict(y_to_pred)\n",
    "y_proba = model_extree.predict_proba(y_to_pred)[:,1]"
   ]
  },
  {
   "cell_type": "code",
   "execution_count": 400,
   "id": "8c094dd9",
   "metadata": {},
   "outputs": [
    {
     "name": "stdout",
     "output_type": "stream",
     "text": [
      "У вас низкий кардиологический риск, вероятность заболевания: 29.599999999999998%\n"
     ]
    }
   ],
   "source": [
    "if y_proba[0] > 0.5:\n",
    "    print(f'У вас высокий кардиологический риск, вероятность заболевания: {y_proba[0]*100}%')\n",
    "elif 0.3 < y_proba[0] <= 0.5:\n",
    "    print(f'У вас средний кардиологический риск, вероятность заболевания: {y_proba[0]*100}%')\n",
    "else:\n",
    "    print(f'У вас низкий кардиологический риск, вероятность заболевания: {y_proba[0]*100}%')"
   ]
  },
  {
   "cell_type": "code",
   "execution_count": 43,
   "id": "5ee7bab6",
   "metadata": {},
   "outputs": [
    {
     "data": {
      "text/plain": [
       "(bytes, sklearn.ensemble._forest.ExtraTreesClassifier)"
      ]
     },
     "execution_count": 43,
     "metadata": {},
     "output_type": "execute_result"
    }
   ],
   "source": [
    "import pickle\n",
    "model = pickle.dumps(model_extree)\n",
    "type(model), type(model_extree)"
   ]
  },
  {
   "cell_type": "code",
   "execution_count": 45,
   "id": "b211bfaa",
   "metadata": {},
   "outputs": [],
   "source": [
    "with open('C:/Users/Алексей Третьяков/Desktop/ML_rep/heart_project/heart.pkl', 'wb') as output:\n",
    "       pickle.dump(model_extree, output)"
   ]
  },
  {
   "cell_type": "code",
   "execution_count": 46,
   "id": "2d65fd54",
   "metadata": {},
   "outputs": [
    {
     "data": {
      "text/plain": [
       "ExtraTreesClassifier(n_estimators=500, n_jobs=-1, random_state=42)"
      ]
     },
     "execution_count": 46,
     "metadata": {},
     "output_type": "execute_result"
    }
   ],
   "source": [
    "with open('C:/Users/Алексей Третьяков/Desktop/ML_rep/heart_project/heart.pkl', 'rb') as pkl_file:\n",
    "    regressor_from_file = pickle.load(pkl_file)\n",
    "\n",
    "regressor_from_file"
   ]
  },
  {
   "cell_type": "code",
   "execution_count": null,
   "id": "7236953c",
   "metadata": {},
   "outputs": [],
   "source": []
  }
 ],
 "metadata": {
  "kernelspec": {
   "display_name": "Python 3 (ipykernel)",
   "language": "python",
   "name": "python3"
  },
  "language_info": {
   "codemirror_mode": {
    "name": "ipython",
    "version": 3
   },
   "file_extension": ".py",
   "mimetype": "text/x-python",
   "name": "python",
   "nbconvert_exporter": "python",
   "pygments_lexer": "ipython3",
   "version": "3.9.1"
  }
 },
 "nbformat": 4,
 "nbformat_minor": 5
}
